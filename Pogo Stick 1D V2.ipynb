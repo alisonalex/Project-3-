{
 "cells": [
  {
   "cell_type": "code",
   "execution_count": 48,
   "metadata": {
    "collapsed": true
   },
   "outputs": [],
   "source": [
    "%matplotlib inline\n",
    "from modsim import *"
   ]
  },
  {
   "cell_type": "code",
   "execution_count": 49,
   "metadata": {
    "collapsed": true
   },
   "outputs": [],
   "source": [
    "m = UNITS.meter\n",
    "s = UNITS.second\n",
    "kg = UNITS.kilogram\n",
    "N = UNITS.newton\n",
    "degrees = UNITS.degree"
   ]
  },
  {
   "cell_type": "code",
   "execution_count": 50,
   "metadata": {
    "collapsed": true
   },
   "outputs": [],
   "source": [
    "condition = Condition(mass = 26 ,\n",
    "                g = 9.8 ,\n",
    "                k = 6567 ,\n",
    "                v_init= 0,\n",
    "                y_init = 3 ,\n",
    "                duration=10 ,\n",
    "                dt=21 ,\n",
    "                y_attach=0,\n",
    "                length = 0.15)"
   ]
  },
  {
   "cell_type": "markdown",
   "metadata": {},
   "source": [
    "Phase 1"
   ]
  },
  {
   "cell_type": "code",
   "execution_count": 51,
   "metadata": {
    "collapsed": true
   },
   "outputs": [],
   "source": [
    "def make_system(condition):\n",
    "    unpack(condition)\n",
    "    \n",
    "    init = State(y=y_init, v = v_init)\n",
    "    ts = linspace(0,duration, dt)\n",
    "    \n",
    "    return System(init=init, g=g, mass=mass, y_attach=y_attach, k=k, ts=ts)"
   ]
  },
  {
   "cell_type": "code",
   "execution_count": 52,
   "metadata": {},
   "outputs": [
    {
     "data": {
      "text/html": [
       "<div>\n",
       "<style>\n",
       "    .dataframe thead tr:only-child th {\n",
       "        text-align: right;\n",
       "    }\n",
       "\n",
       "    .dataframe thead th {\n",
       "        text-align: left;\n",
       "    }\n",
       "\n",
       "    .dataframe tbody tr th {\n",
       "        vertical-align: top;\n",
       "    }\n",
       "</style>\n",
       "<table border=\"1\" class=\"dataframe\">\n",
       "  <thead>\n",
       "    <tr style=\"text-align: right;\">\n",
       "      <th></th>\n",
       "      <th>value</th>\n",
       "    </tr>\n",
       "  </thead>\n",
       "  <tbody>\n",
       "    <tr>\n",
       "      <th>init</th>\n",
       "      <td>y    3.0\n",
       "v    0.0\n",
       "dtype: float64</td>\n",
       "    </tr>\n",
       "    <tr>\n",
       "      <th>g</th>\n",
       "      <td>9.8</td>\n",
       "    </tr>\n",
       "    <tr>\n",
       "      <th>mass</th>\n",
       "      <td>26</td>\n",
       "    </tr>\n",
       "    <tr>\n",
       "      <th>y_attach</th>\n",
       "      <td>0</td>\n",
       "    </tr>\n",
       "    <tr>\n",
       "      <th>k</th>\n",
       "      <td>6567</td>\n",
       "    </tr>\n",
       "    <tr>\n",
       "      <th>ts</th>\n",
       "      <td>[0.0, 0.5, 1.0, 1.5, 2.0, 2.5, 3.0, 3.5, 4.0, ...</td>\n",
       "    </tr>\n",
       "  </tbody>\n",
       "</table>\n",
       "</div>"
      ],
      "text/plain": [
       "init                         y    3.0\n",
       "v    0.0\n",
       "dtype: float64\n",
       "g                                                         9.8\n",
       "mass                                                       26\n",
       "y_attach                                                    0\n",
       "k                                                        6567\n",
       "ts          [0.0, 0.5, 1.0, 1.5, 2.0, 2.5, 3.0, 3.5, 4.0, ...\n",
       "dtype: object"
      ]
     },
     "execution_count": 52,
     "metadata": {},
     "output_type": "execute_result"
    }
   ],
   "source": [
    "system=make_system(condition)\n",
    "system"
   ]
  },
  {
   "cell_type": "code",
   "execution_count": 53,
   "metadata": {
    "collapsed": true
   },
   "outputs": [],
   "source": [
    "def slope_func1(state, t, system):\n",
    "    \"\"\"Slope function for when the pogo stick is falling from the set height, currently it is at 3m\n",
    "        AKA PHASE 1, runs until the spring hits the ground, before the spring begins to compress\n",
    "    \"\"\"\n",
    "    \n",
    "    y, v = state\n",
    "    unpack(system)\n",
    "    \n",
    "    dvdt = -g\n",
    "    dydt = v\n",
    "    \n",
    "    return dydt, dvdt"
   ]
  },
  {
   "cell_type": "code",
   "execution_count": 54,
   "metadata": {},
   "outputs": [
    {
     "data": {
      "text/plain": [
       "(0.0, -9.8000000000000007)"
      ]
     },
     "execution_count": 54,
     "metadata": {},
     "output_type": "execute_result"
    }
   ],
   "source": [
    "slope_func1(system.init, 0, system)"
   ]
  },
  {
   "cell_type": "code",
   "execution_count": 55,
   "metadata": {
    "collapsed": true
   },
   "outputs": [],
   "source": [
    "run_odeint(system, slope_func1)\n"
   ]
  },
  {
   "cell_type": "code",
   "execution_count": 56,
   "metadata": {
    "collapsed": true
   },
   "outputs": [],
   "source": [
    "y= system.results.y\n",
    "T=interp_inverse(y)"
   ]
  },
  {
   "cell_type": "code",
   "execution_count": 57,
   "metadata": {},
   "outputs": [
    {
     "data": {
      "text/plain": [
       "array(0.7414965984408527)"
      ]
     },
     "execution_count": 57,
     "metadata": {},
     "output_type": "execute_result"
    }
   ],
   "source": [
    "T_phase1=T(0)\n",
    "T_phase1"
   ]
  },
  {
   "cell_type": "code",
   "execution_count": 58,
   "metadata": {},
   "outputs": [],
   "source": [
    "#creating a new system and running a new simulation that stops when the spring hits the ground\n",
    "\n",
    "condition.set(duration=T_phase1)\n",
    "system = make_system(condition = condition)\n",
    "run_odeint(system, slope_func1)"
   ]
  },
  {
   "cell_type": "code",
   "execution_count": 59,
   "metadata": {
    "collapsed": true
   },
   "outputs": [],
   "source": [
    "def final_falling_state(system):\n",
    "    \"\"\"returns the velocity and position \n",
    "    the instant that the spring touches the ground \"\"\"\n",
    "    \n",
    "    t_end= system.results.index[-1]\n",
    "    y, v = system.results.loc[t_end]\n",
    "    return y, v"
   ]
  },
  {
   "cell_type": "code",
   "execution_count": 60,
   "metadata": {},
   "outputs": [
    {
     "data": {
      "text/plain": [
       "0.30589569287584029"
      ]
     },
     "execution_count": 60,
     "metadata": {},
     "output_type": "execute_result"
    }
   ],
   "source": [
    "y_final, v_final = final_falling_state(system)\n",
    "y_final"
   ]
  },
  {
   "cell_type": "code",
   "execution_count": 61,
   "metadata": {},
   "outputs": [
    {
     "data": {
      "text/plain": [
       "-7.2666666647203559"
      ]
     },
     "execution_count": 61,
     "metadata": {},
     "output_type": "execute_result"
    }
   ],
   "source": [
    "v_final"
   ]
  },
  {
   "cell_type": "code",
   "execution_count": 62,
   "metadata": {
    "collapsed": true
   },
   "outputs": [],
   "source": [
    "def plot_position(results):\n",
    "    \n",
    "    newfig()\n",
    "    plot (results.y, label='y')\n",
    "    \n",
    "    decorate(xlabel=\"Time(s)\",\n",
    "             ylabel = \"Position(m)\")"
   ]
  },
  {
   "cell_type": "code",
   "execution_count": 63,
   "metadata": {},
   "outputs": [
    {
     "data": {
      "image/png": "[encoded data removed]",
      "text/plain": [
       "<matplotlib.figure.Figure at 0x17c177217f0>"
      ]
     },
     "metadata": {},
     "output_type": "display_data"
    }
   ],
   "source": [
    "plot_position(system.results)"
   ]
  },
  {
   "cell_type": "code",
   "execution_count": 74,
   "metadata": {
    "collapsed": true
   },
   "outputs": [],
   "source": [
    "time=0.1\n",
    "F_s = length*k\n",
    "a_s=F_s/mass\n",
    "v_s = a_s*time"
   ]
  },
  {
   "cell_type": "code",
   "execution_count": 75,
   "metadata": {
    "collapsed": true
   },
   "outputs": [],
   "source": [
    "condition2 = Condition(mass = 26 ,\n",
    "                g = 9.8 ,\n",
    "                k = 6567 ,\n",
    "                v_init= v_s,\n",
    "                y_init = 0 ,\n",
    "                duration=10 ,\n",
    "                dt=21 ,\n",
    "                y_attach=0,\n",
    "                length = 0.15)"
   ]
  },
  {
   "cell_type": "code",
   "execution_count": 78,
   "metadata": {
    "collapsed": true
   },
   "outputs": [],
   "source": [
    "def make_system2(condition):\n",
    "    unpack(condition)\n",
    "    \n",
    "    init = State(y=y_init, v = v_init)\n",
    "    ts = linspace(T_phase1, T_phase1+9, 101)\n",
    "    \n",
    "    return System(init=init, g=g, mass=mass, y_attach=y_attach, k=k, ts=ts)"
   ]
  },
  {
   "cell_type": "markdown",
   "metadata": {},
   "source": [
    "Phase 2"
   ]
  },
  {
   "cell_type": "code",
   "execution_count": 79,
   "metadata": {},
   "outputs": [],
   "source": [
    "system2 = make_system2(condition2)"
   ]
  },
  {
   "cell_type": "code",
   "execution_count": null,
   "metadata": {
    "collapsed": true
   },
   "outputs": [],
   "source": []
  },
  {
   "cell_type": "code",
   "execution_count": 66,
   "metadata": {
    "collapsed": true
   },
   "outputs": [],
   "source": [
    "def spring_force_v(y, y_attach, length, k):\n",
    "    x = abs(y-length+y_attach)\n",
    "    F_s = k*x\n",
    "    return F_s"
   ]
  },
  {
   "cell_type": "code",
   "execution_count": 80,
   "metadata": {
    "collapsed": true
   },
   "outputs": [],
   "source": [
    "def slope_func2(state, t, system):\n",
    "    \"\"\"Slope function for when the pogo stick is uncompressing\n",
    "    \"\"\"\n",
    "    y, v = state\n",
    "    unpack(system)\n",
    "    \n",
    "    dvdt = a_s\n",
    "    dydt = v\n",
    "    \n",
    "    return dydt, dvdt"
   ]
  },
  {
   "cell_type": "code",
   "execution_count": 85,
   "metadata": {},
   "outputs": [],
   "source": [
    "run_odeint(system2, slope_func1)\n"
   ]
  },
  {
   "cell_type": "code",
   "execution_count": 86,
   "metadata": {},
   "outputs": [
    {
     "data": {
      "text/html": [
       "<div>\n",
       "<style>\n",
       "    .dataframe thead tr:only-child th {\n",
       "        text-align: right;\n",
       "    }\n",
       "\n",
       "    .dataframe thead th {\n",
       "        text-align: left;\n",
       "    }\n",
       "\n",
       "    .dataframe tbody tr th {\n",
       "        vertical-align: top;\n",
       "    }\n",
       "</style>\n",
       "<table border=\"1\" class=\"dataframe\">\n",
       "  <thead>\n",
       "    <tr style=\"text-align: right;\">\n",
       "      <th></th>\n",
       "      <th>y</th>\n",
       "      <th>v</th>\n",
       "    </tr>\n",
       "  </thead>\n",
       "  <tbody>\n",
       "    <tr>\n",
       "      <th>0.741497</th>\n",
       "      <td>0.000000</td>\n",
       "      <td>3.788654</td>\n",
       "    </tr>\n",
       "    <tr>\n",
       "      <th>0.831497</th>\n",
       "      <td>0.301289</td>\n",
       "      <td>2.906654</td>\n",
       "    </tr>\n",
       "    <tr>\n",
       "      <th>0.921497</th>\n",
       "      <td>0.523198</td>\n",
       "      <td>2.024654</td>\n",
       "    </tr>\n",
       "    <tr>\n",
       "      <th>1.011497</th>\n",
       "      <td>0.665727</td>\n",
       "      <td>1.142654</td>\n",
       "    </tr>\n",
       "    <tr>\n",
       "      <th>1.101497</th>\n",
       "      <td>0.728875</td>\n",
       "      <td>0.260654</td>\n",
       "    </tr>\n",
       "    <tr>\n",
       "      <th>1.191497</th>\n",
       "      <td>0.712644</td>\n",
       "      <td>-0.621346</td>\n",
       "    </tr>\n",
       "    <tr>\n",
       "      <th>1.281497</th>\n",
       "      <td>0.617033</td>\n",
       "      <td>-1.503346</td>\n",
       "    </tr>\n",
       "    <tr>\n",
       "      <th>1.371497</th>\n",
       "      <td>0.442042</td>\n",
       "      <td>-2.385346</td>\n",
       "    </tr>\n",
       "    <tr>\n",
       "      <th>1.461497</th>\n",
       "      <td>0.187671</td>\n",
       "      <td>-3.267346</td>\n",
       "    </tr>\n",
       "    <tr>\n",
       "      <th>1.551497</th>\n",
       "      <td>-0.146080</td>\n",
       "      <td>-4.149346</td>\n",
       "    </tr>\n",
       "    <tr>\n",
       "      <th>1.641497</th>\n",
       "      <td>-0.559212</td>\n",
       "      <td>-5.031346</td>\n",
       "    </tr>\n",
       "    <tr>\n",
       "      <th>1.731497</th>\n",
       "      <td>-1.051723</td>\n",
       "      <td>-5.913346</td>\n",
       "    </tr>\n",
       "    <tr>\n",
       "      <th>1.821497</th>\n",
       "      <td>-1.623614</td>\n",
       "      <td>-6.795346</td>\n",
       "    </tr>\n",
       "    <tr>\n",
       "      <th>1.911497</th>\n",
       "      <td>-2.274885</td>\n",
       "      <td>-7.677346</td>\n",
       "    </tr>\n",
       "    <tr>\n",
       "      <th>2.001497</th>\n",
       "      <td>-3.005536</td>\n",
       "      <td>-8.559346</td>\n",
       "    </tr>\n",
       "    <tr>\n",
       "      <th>2.091497</th>\n",
       "      <td>-3.815567</td>\n",
       "      <td>-9.441346</td>\n",
       "    </tr>\n",
       "    <tr>\n",
       "      <th>2.181497</th>\n",
       "      <td>-4.704978</td>\n",
       "      <td>-10.323346</td>\n",
       "    </tr>\n",
       "    <tr>\n",
       "      <th>2.271497</th>\n",
       "      <td>-5.673770</td>\n",
       "      <td>-11.205346</td>\n",
       "    </tr>\n",
       "    <tr>\n",
       "      <th>2.361497</th>\n",
       "      <td>-6.721941</td>\n",
       "      <td>-12.087346</td>\n",
       "    </tr>\n",
       "    <tr>\n",
       "      <th>2.451497</th>\n",
       "      <td>-7.849492</td>\n",
       "      <td>-12.969346</td>\n",
       "    </tr>\n",
       "    <tr>\n",
       "      <th>2.541497</th>\n",
       "      <td>-9.056423</td>\n",
       "      <td>-13.851346</td>\n",
       "    </tr>\n",
       "    <tr>\n",
       "      <th>2.631497</th>\n",
       "      <td>-10.342734</td>\n",
       "      <td>-14.733346</td>\n",
       "    </tr>\n",
       "    <tr>\n",
       "      <th>2.721497</th>\n",
       "      <td>-11.708425</td>\n",
       "      <td>-15.615346</td>\n",
       "    </tr>\n",
       "    <tr>\n",
       "      <th>2.811497</th>\n",
       "      <td>-13.153497</td>\n",
       "      <td>-16.497346</td>\n",
       "    </tr>\n",
       "    <tr>\n",
       "      <th>2.901497</th>\n",
       "      <td>-14.677948</td>\n",
       "      <td>-17.379346</td>\n",
       "    </tr>\n",
       "    <tr>\n",
       "      <th>2.991497</th>\n",
       "      <td>-16.281779</td>\n",
       "      <td>-18.261346</td>\n",
       "    </tr>\n",
       "    <tr>\n",
       "      <th>3.081497</th>\n",
       "      <td>-17.964990</td>\n",
       "      <td>-19.143346</td>\n",
       "    </tr>\n",
       "    <tr>\n",
       "      <th>3.171497</th>\n",
       "      <td>-19.727581</td>\n",
       "      <td>-20.025346</td>\n",
       "    </tr>\n",
       "    <tr>\n",
       "      <th>3.261497</th>\n",
       "      <td>-21.569552</td>\n",
       "      <td>-20.907346</td>\n",
       "    </tr>\n",
       "    <tr>\n",
       "      <th>3.351497</th>\n",
       "      <td>-23.490903</td>\n",
       "      <td>-21.789346</td>\n",
       "    </tr>\n",
       "    <tr>\n",
       "      <th>...</th>\n",
       "      <td>...</td>\n",
       "      <td>...</td>\n",
       "    </tr>\n",
       "    <tr>\n",
       "      <th>7.131497</th>\n",
       "      <td>-175.867792</td>\n",
       "      <td>-58.833346</td>\n",
       "    </tr>\n",
       "    <tr>\n",
       "      <th>7.221497</th>\n",
       "      <td>-181.202483</td>\n",
       "      <td>-59.715346</td>\n",
       "    </tr>\n",
       "    <tr>\n",
       "      <th>7.311497</th>\n",
       "      <td>-186.616554</td>\n",
       "      <td>-60.597346</td>\n",
       "    </tr>\n",
       "    <tr>\n",
       "      <th>7.401497</th>\n",
       "      <td>-192.110005</td>\n",
       "      <td>-61.479346</td>\n",
       "    </tr>\n",
       "    <tr>\n",
       "      <th>7.491497</th>\n",
       "      <td>-197.682837</td>\n",
       "      <td>-62.361346</td>\n",
       "    </tr>\n",
       "    <tr>\n",
       "      <th>7.581497</th>\n",
       "      <td>-203.335048</td>\n",
       "      <td>-63.243346</td>\n",
       "    </tr>\n",
       "    <tr>\n",
       "      <th>7.671497</th>\n",
       "      <td>-209.066639</td>\n",
       "      <td>-64.125346</td>\n",
       "    </tr>\n",
       "    <tr>\n",
       "      <th>7.761497</th>\n",
       "      <td>-214.877610</td>\n",
       "      <td>-65.007346</td>\n",
       "    </tr>\n",
       "    <tr>\n",
       "      <th>7.851497</th>\n",
       "      <td>-220.767961</td>\n",
       "      <td>-65.889346</td>\n",
       "    </tr>\n",
       "    <tr>\n",
       "      <th>7.941497</th>\n",
       "      <td>-226.737692</td>\n",
       "      <td>-66.771346</td>\n",
       "    </tr>\n",
       "    <tr>\n",
       "      <th>8.031497</th>\n",
       "      <td>-232.786803</td>\n",
       "      <td>-67.653346</td>\n",
       "    </tr>\n",
       "    <tr>\n",
       "      <th>8.121497</th>\n",
       "      <td>-238.915295</td>\n",
       "      <td>-68.535346</td>\n",
       "    </tr>\n",
       "    <tr>\n",
       "      <th>8.211497</th>\n",
       "      <td>-245.123166</td>\n",
       "      <td>-69.417346</td>\n",
       "    </tr>\n",
       "    <tr>\n",
       "      <th>8.301497</th>\n",
       "      <td>-251.410417</td>\n",
       "      <td>-70.299346</td>\n",
       "    </tr>\n",
       "    <tr>\n",
       "      <th>8.391497</th>\n",
       "      <td>-257.777048</td>\n",
       "      <td>-71.181346</td>\n",
       "    </tr>\n",
       "    <tr>\n",
       "      <th>8.481497</th>\n",
       "      <td>-264.223059</td>\n",
       "      <td>-72.063346</td>\n",
       "    </tr>\n",
       "    <tr>\n",
       "      <th>8.571497</th>\n",
       "      <td>-270.748450</td>\n",
       "      <td>-72.945346</td>\n",
       "    </tr>\n",
       "    <tr>\n",
       "      <th>8.661497</th>\n",
       "      <td>-277.353222</td>\n",
       "      <td>-73.827346</td>\n",
       "    </tr>\n",
       "    <tr>\n",
       "      <th>8.751497</th>\n",
       "      <td>-284.037373</td>\n",
       "      <td>-74.709346</td>\n",
       "    </tr>\n",
       "    <tr>\n",
       "      <th>8.841497</th>\n",
       "      <td>-290.800904</td>\n",
       "      <td>-75.591346</td>\n",
       "    </tr>\n",
       "    <tr>\n",
       "      <th>8.931497</th>\n",
       "      <td>-297.643815</td>\n",
       "      <td>-76.473346</td>\n",
       "    </tr>\n",
       "    <tr>\n",
       "      <th>9.021497</th>\n",
       "      <td>-304.566106</td>\n",
       "      <td>-77.355346</td>\n",
       "    </tr>\n",
       "    <tr>\n",
       "      <th>9.111497</th>\n",
       "      <td>-311.567777</td>\n",
       "      <td>-78.237346</td>\n",
       "    </tr>\n",
       "    <tr>\n",
       "      <th>9.201497</th>\n",
       "      <td>-318.648828</td>\n",
       "      <td>-79.119346</td>\n",
       "    </tr>\n",
       "    <tr>\n",
       "      <th>9.291497</th>\n",
       "      <td>-325.809260</td>\n",
       "      <td>-80.001346</td>\n",
       "    </tr>\n",
       "    <tr>\n",
       "      <th>9.381497</th>\n",
       "      <td>-333.049071</td>\n",
       "      <td>-80.883346</td>\n",
       "    </tr>\n",
       "    <tr>\n",
       "      <th>9.471497</th>\n",
       "      <td>-340.368262</td>\n",
       "      <td>-81.765346</td>\n",
       "    </tr>\n",
       "    <tr>\n",
       "      <th>9.561497</th>\n",
       "      <td>-347.766833</td>\n",
       "      <td>-82.647346</td>\n",
       "    </tr>\n",
       "    <tr>\n",
       "      <th>9.651497</th>\n",
       "      <td>-355.244784</td>\n",
       "      <td>-83.529346</td>\n",
       "    </tr>\n",
       "    <tr>\n",
       "      <th>9.741497</th>\n",
       "      <td>-362.802115</td>\n",
       "      <td>-84.411346</td>\n",
       "    </tr>\n",
       "  </tbody>\n",
       "</table>\n",
       "<p>101 rows × 2 columns</p>\n",
       "</div>"
      ],
      "text/plain": [
       "                   y          v\n",
       "0.741497    0.000000   3.788654\n",
       "0.831497    0.301289   2.906654\n",
       "0.921497    0.523198   2.024654\n",
       "1.011497    0.665727   1.142654\n",
       "1.101497    0.728875   0.260654\n",
       "1.191497    0.712644  -0.621346\n",
       "1.281497    0.617033  -1.503346\n",
       "1.371497    0.442042  -2.385346\n",
       "1.461497    0.187671  -3.267346\n",
       "1.551497   -0.146080  -4.149346\n",
       "1.641497   -0.559212  -5.031346\n",
       "1.731497   -1.051723  -5.913346\n",
       "1.821497   -1.623614  -6.795346\n",
       "1.911497   -2.274885  -7.677346\n",
       "2.001497   -3.005536  -8.559346\n",
       "2.091497   -3.815567  -9.441346\n",
       "2.181497   -4.704978 -10.323346\n",
       "2.271497   -5.673770 -11.205346\n",
       "2.361497   -6.721941 -12.087346\n",
       "2.451497   -7.849492 -12.969346\n",
       "2.541497   -9.056423 -13.851346\n",
       "2.631497  -10.342734 -14.733346\n",
       "2.721497  -11.708425 -15.615346\n",
       "2.811497  -13.153497 -16.497346\n",
       "2.901497  -14.677948 -17.379346\n",
       "2.991497  -16.281779 -18.261346\n",
       "3.081497  -17.964990 -19.143346\n",
       "3.171497  -19.727581 -20.025346\n",
       "3.261497  -21.569552 -20.907346\n",
       "3.351497  -23.490903 -21.789346\n",
       "...              ...        ...\n",
       "7.131497 -175.867792 -58.833346\n",
       "7.221497 -181.202483 -59.715346\n",
       "7.311497 -186.616554 -60.597346\n",
       "7.401497 -192.110005 -61.479346\n",
       "7.491497 -197.682837 -62.361346\n",
       "7.581497 -203.335048 -63.243346\n",
       "7.671497 -209.066639 -64.125346\n",
       "7.761497 -214.877610 -65.007346\n",
       "7.851497 -220.767961 -65.889346\n",
       "7.941497 -226.737692 -66.771346\n",
       "8.031497 -232.786803 -67.653346\n",
       "8.121497 -238.915295 -68.535346\n",
       "8.211497 -245.123166 -69.417346\n",
       "8.301497 -251.410417 -70.299346\n",
       "8.391497 -257.777048 -71.181346\n",
       "8.481497 -264.223059 -72.063346\n",
       "8.571497 -270.748450 -72.945346\n",
       "8.661497 -277.353222 -73.827346\n",
       "8.751497 -284.037373 -74.709346\n",
       "8.841497 -290.800904 -75.591346\n",
       "8.931497 -297.643815 -76.473346\n",
       "9.021497 -304.566106 -77.355346\n",
       "9.111497 -311.567777 -78.237346\n",
       "9.201497 -318.648828 -79.119346\n",
       "9.291497 -325.809260 -80.001346\n",
       "9.381497 -333.049071 -80.883346\n",
       "9.471497 -340.368262 -81.765346\n",
       "9.561497 -347.766833 -82.647346\n",
       "9.651497 -355.244784 -83.529346\n",
       "9.741497 -362.802115 -84.411346\n",
       "\n",
       "[101 rows x 2 columns]"
      ]
     },
     "execution_count": 86,
     "metadata": {},
     "output_type": "execute_result"
    }
   ],
   "source": [
    "system2.results"
   ]
  },
  {
   "cell_type": "code",
   "execution_count": null,
   "metadata": {
    "collapsed": true
   },
   "outputs": [],
   "source": []
  }
 ],
 "metadata": {
  "kernelspec": {
   "display_name": "Python 3",
   "language": "python",
   "name": "python3"
  },
  "language_info": {
   "codemirror_mode": {
    "name": "ipython",
    "version": 3
   },
   "file_extension": ".py",
   "mimetype": "text/x-python",
   "name": "python",
   "nbconvert_exporter": "python",
   "pygments_lexer": "ipython3",
   "version": "3.6.1"
  }
 },
 "nbformat": 4,
 "nbformat_minor": 2
}
