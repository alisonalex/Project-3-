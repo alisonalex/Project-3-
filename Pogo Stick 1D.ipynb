{
 "cells": [
  {
   "cell_type": "code",
   "execution_count": 12,
   "metadata": {
    "collapsed": true
   },
   "outputs": [],
   "source": [
    "from modsim import *"
   ]
  },
  {
   "cell_type": "code",
   "execution_count": 13,
   "metadata": {
    "collapsed": true
   },
   "outputs": [],
   "source": [
    "m = UNITS.meter\n",
    "s = UNITS.second\n",
    "kg = UNITS.kilogram\n",
    "N = UNITS.newton\n",
    "degrees = UNITS.degree"
   ]
  },
  {
   "cell_type": "code",
   "execution_count": 14,
   "metadata": {
    "collapsed": true
   },
   "outputs": [],
   "source": [
    "init = State(y = 0 ,\n",
    "            v = 0 ,\n",
    "            change_in_spring= .0007,\n",
    "            a = 0 )"
   ]
  },
  {
   "cell_type": "code",
   "execution_count": 15,
   "metadata": {
    "collapsed": true
   },
   "outputs": [],
   "source": [
    "duration = 0.008 \n",
    "dt = 0.001 \n",
    "ts = linrange(0,duration, dt)"
   ]
  },
  {
   "cell_type": "raw",
   "metadata": {},
   "source": []
  },
  {
   "cell_type": "code",
   "execution_count": 16,
   "metadata": {
    "collapsed": true
   },
   "outputs": [],
   "source": [
    "system = System(mass = 78,\n",
    "               g = 9.8 ,\n",
    "               k = 28500 ,\n",
    "               y_init = 0 ,\n",
    "               ts=ts,\n",
    "               init= init\n",
    "               )"
   ]
  },
  {
   "cell_type": "code",
   "execution_count": 21,
   "metadata": {
    "collapsed": true
   },
   "outputs": [],
   "source": [
    "def slope_func(state, t, system):\n",
    "    y, v, a , change_in_spring = state\n",
    "    unpack(system)\n",
    "    F_g =  mass * g\n",
    "    F_n = F_g\n",
    "    F_s = k * (change_in_spring - y)\n",
    "    F_total = -F_g + F_n + F_s\n",
    "    \n",
    "    dydt = v\n",
    "    dvdt = F_total / mass\n",
    "    y =  1/2*dvdt*(t**2)\n",
    "    \n",
    "    return dydt, dvdt, change_in_spring, y"
   ]
  },
  {
   "cell_type": "code",
   "execution_count": 22,
   "metadata": {},
   "outputs": [],
   "source": [
    "run_odeint(system, slope_func)"
   ]
  },
  {
   "cell_type": "code",
   "execution_count": null,
   "metadata": {
    "collapsed": true
   },
   "outputs": [],
   "source": []
  }
 ],
 "metadata": {
  "kernelspec": {
   "display_name": "Python 3",
   "language": "python",
   "name": "python3"
  },
  "language_info": {
   "codemirror_mode": {
    "name": "ipython",
    "version": 3
   },
   "file_extension": ".py",
   "mimetype": "text/x-python",
   "name": "python",
   "nbconvert_exporter": "python",
   "pygments_lexer": "ipython3",
   "version": "3.6.1"
  }
 },
 "nbformat": 4,
 "nbformat_minor": 2
}
