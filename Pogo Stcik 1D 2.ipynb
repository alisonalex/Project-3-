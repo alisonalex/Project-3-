{
 "cells": [
  {
   "cell_type": "code",
   "execution_count": 41,
   "metadata": {
    "collapsed": true
   },
   "outputs": [],
   "source": [
    "%matplotlib inline\n",
    "from modsim import *"
   ]
  },
  {
   "cell_type": "code",
   "execution_count": 54,
   "metadata": {},
   "outputs": [],
   "source": [
    "m = UNITS.meter\n",
    "s = UNITS.second\n",
    "kg = UNITS.kilogram\n",
    "J= UNITS.joules"
   ]
  },
  {
   "cell_type": "code",
   "execution_count": 88,
   "metadata": {},
   "outputs": [],
   "source": [
    "condition = Condition(g = 9.8 * m/s**2,\n",
    "            y=5 *m,\n",
    "            v_init=0 *m/s,\n",
    "            t0=0*s,\n",
    "            duration = 10*s,\n",
    "            mass=1*kg,\n",
    "            dt=11)"
   ]
  },
  {
   "cell_type": "code",
   "execution_count": 94,
   "metadata": {},
   "outputs": [],
   "source": [
    "def make_system(condition):\n",
    "    unpack(condition)\n",
    "    \n",
    "    te = mass*g*y + 0.5*mass*v_init**2\n",
    "    init=State(y=y, v=v_init)\n",
    "#    ts=linspace(0*s, duration, dt)\n",
    "    \n",
    "    return System(init=init, g=g, te=te, t0=t0)"
   ]
  },
  {
   "cell_type": "code",
   "execution_count": 95,
   "metadata": {},
   "outputs": [
    {
     "data": {
      "text/html": [
       "<div>\n",
       "<style>\n",
       "    .dataframe thead tr:only-child th {\n",
       "        text-align: right;\n",
       "    }\n",
       "\n",
       "    .dataframe thead th {\n",
       "        text-align: left;\n",
       "    }\n",
       "\n",
       "    .dataframe tbody tr th {\n",
       "        vertical-align: top;\n",
       "    }\n",
       "</style>\n",
       "<table border=\"1\" class=\"dataframe\">\n",
       "  <thead>\n",
       "    <tr style=\"text-align: right;\">\n",
       "      <th></th>\n",
       "      <th>value</th>\n",
       "    </tr>\n",
       "  </thead>\n",
       "  <tbody>\n",
       "    <tr>\n",
       "      <th>init</th>\n",
       "      <td>y               5 meter\n",
       "v    0.0 meter / secon...</td>\n",
       "    </tr>\n",
       "    <tr>\n",
       "      <th>g</th>\n",
       "      <td>9.8 meter / second ** 2</td>\n",
       "    </tr>\n",
       "    <tr>\n",
       "      <th>te</th>\n",
       "      <td>49.0 kilogram * meter ** 2 / second ** 2</td>\n",
       "    </tr>\n",
       "    <tr>\n",
       "      <th>t0</th>\n",
       "      <td>0 second</td>\n",
       "    </tr>\n",
       "  </tbody>\n",
       "</table>\n",
       "</div>"
      ],
      "text/plain": [
       "init    y               5 meter\n",
       "v    0.0 meter / secon...\n",
       "g                                 9.8 meter / second ** 2\n",
       "te               49.0 kilogram * meter ** 2 / second ** 2\n",
       "t0                                               0 second\n",
       "dtype: object"
      ]
     },
     "execution_count": 95,
     "metadata": {},
     "output_type": "execute_result"
    }
   ],
   "source": [
    "system=make_system(condition)\n",
    "system"
   ]
  },
  {
   "cell_type": "code",
   "execution_count": 96,
   "metadata": {
    "collapsed": true
   },
   "outputs": [],
   "source": [
    "def update(y, t, system):\n",
    "    \n",
    "    y, v = state\n",
    "    unpack(system)\n",
    "    \n",
    "    v= sqrt((te-mass*g*y)/(0.5*mass))\n",
    "    \n",
    "    return state\n",
    "\n",
    "    ##we have the values TE, "
   ]
  },
  {
   "cell_type": "code",
   "execution_count": null,
   "metadata": {
    "collapsed": true
   },
   "outputs": [],
   "source": [
    "def run_simulation(system, update_func):\n",
    "    results=TimeSeries()\n",
    "    results[system.t0]=system.y\n",
    "    for t in linrange(system.t0, system.duration):\n",
    "        results[t+1] = update(results[t],t,system)"
   ]
  },
  {
   "cell_type": "code",
   "execution_count": 87,
   "metadata": {},
   "outputs": [
    {
     "ename": "NameError",
     "evalue": "name 'run_simulation' is not defined",
     "output_type": "error",
     "traceback": [
      "\u001b[1;31m---------------------------------------------------------------------------\u001b[0m",
      "\u001b[1;31mNameError\u001b[0m                                 Traceback (most recent call last)",
      "\u001b[1;32m<ipython-input-87-1d55ac3c44eb>\u001b[0m in \u001b[0;36m<module>\u001b[1;34m()\u001b[0m\n\u001b[0;32m      2\u001b[0m \u001b[0mupdate\u001b[0m\u001b[1;33m(\u001b[0m\u001b[0msystem\u001b[0m\u001b[1;33m.\u001b[0m\u001b[0minit\u001b[0m\u001b[1;33m,\u001b[0m \u001b[0msystem\u001b[0m\u001b[1;33m)\u001b[0m\u001b[1;33m\u001b[0m\u001b[0m\n\u001b[0;32m      3\u001b[0m \u001b[1;33m\u001b[0m\u001b[0m\n\u001b[1;32m----> 4\u001b[1;33m \u001b[0mrun_simulation\u001b[0m\u001b[1;33m(\u001b[0m\u001b[0msystem\u001b[0m\u001b[1;33m,\u001b[0m \u001b[0mupdate\u001b[0m\u001b[1;33m)\u001b[0m\u001b[1;33m\u001b[0m\u001b[0m\n\u001b[0m",
      "\u001b[1;31mNameError\u001b[0m: name 'run_simulation' is not defined"
     ]
    }
   ],
   "source": [
    "system = make_system(condition)\n",
    "update(system.init, system)\n",
    "\n",
    "run_simulation(system, update)"
   ]
  },
  {
   "cell_type": "code",
   "execution_count": 46,
   "metadata": {
    "collapsed": true
   },
   "outputs": [],
   "source": [
    "def slope_func(state, t, system):\n",
    "    \n",
    "    y,v = state\n",
    "    unpack (system)\n",
    "    \n",
    "    dydt=v\n",
    "    dvdt=-g\n",
    "    \n",
    "    return dydt, dvdt"
   ]
  },
  {
   "cell_type": "code",
   "execution_count": 47,
   "metadata": {},
   "outputs": [
    {
     "name": "stderr",
     "output_type": "stream",
     "text": [
      "C:\\ProgramData\\Miniconda3\\lib\\site-packages\\scipy\\integrate\\odepack.py:218: ODEintWarning: Excess work done on this call (perhaps wrong Dfun type). Run with full_output = 1 to get quantitative information.\n",
      "  warnings.warn(warning_msg, ODEintWarning)\n"
     ]
    }
   ],
   "source": [
    "run_odeint(system, slope_func)"
   ]
  },
  {
   "cell_type": "code",
   "execution_count": 50,
   "metadata": {},
   "outputs": [
    {
     "data": {
      "text/html": [
       "<div>\n",
       "<style>\n",
       "    .dataframe thead tr:only-child th {\n",
       "        text-align: right;\n",
       "    }\n",
       "\n",
       "    .dataframe thead th {\n",
       "        text-align: left;\n",
       "    }\n",
       "\n",
       "    .dataframe tbody tr th {\n",
       "        vertical-align: top;\n",
       "    }\n",
       "</style>\n",
       "<table border=\"1\" class=\"dataframe\">\n",
       "  <thead>\n",
       "    <tr style=\"text-align: right;\">\n",
       "      <th></th>\n",
       "      <th>y</th>\n",
       "      <th>v</th>\n",
       "    </tr>\n",
       "  </thead>\n",
       "  <tbody>\n",
       "    <tr>\n",
       "      <th>0.0</th>\n",
       "      <td>5.000000e+00</td>\n",
       "      <td>0.000000</td>\n",
       "    </tr>\n",
       "    <tr>\n",
       "      <th>1.0</th>\n",
       "      <td>1.000000e-01</td>\n",
       "      <td>-9.800000</td>\n",
       "    </tr>\n",
       "    <tr>\n",
       "      <th>2.0</th>\n",
       "      <td>5.597420e-10</td>\n",
       "      <td>-9.899496</td>\n",
       "    </tr>\n",
       "    <tr>\n",
       "      <th>3.0</th>\n",
       "      <td>1.446685e+02</td>\n",
       "      <td>241.641538</td>\n",
       "    </tr>\n",
       "    <tr>\n",
       "      <th>4.0</th>\n",
       "      <td>1.768608e+02</td>\n",
       "      <td>227.006154</td>\n",
       "    </tr>\n",
       "    <tr>\n",
       "      <th>5.0</th>\n",
       "      <td>2.090531e+02</td>\n",
       "      <td>208.189231</td>\n",
       "    </tr>\n",
       "    <tr>\n",
       "      <th>6.0</th>\n",
       "      <td>2.412454e+02</td>\n",
       "      <td>185.190769</td>\n",
       "    </tr>\n",
       "    <tr>\n",
       "      <th>7.0</th>\n",
       "      <td>2.734377e+02</td>\n",
       "      <td>158.010769</td>\n",
       "    </tr>\n",
       "    <tr>\n",
       "      <th>8.0</th>\n",
       "      <td>3.056300e+02</td>\n",
       "      <td>126.649231</td>\n",
       "    </tr>\n",
       "    <tr>\n",
       "      <th>9.0</th>\n",
       "      <td>3.378224e+02</td>\n",
       "      <td>91.106154</td>\n",
       "    </tr>\n",
       "    <tr>\n",
       "      <th>10.0</th>\n",
       "      <td>3.700147e+02</td>\n",
       "      <td>51.381538</td>\n",
       "    </tr>\n",
       "  </tbody>\n",
       "</table>\n",
       "</div>"
      ],
      "text/plain": [
       "                 y           v\n",
       "0.0   5.000000e+00    0.000000\n",
       "1.0   1.000000e-01   -9.800000\n",
       "2.0   5.597420e-10   -9.899496\n",
       "3.0   1.446685e+02  241.641538\n",
       "4.0   1.768608e+02  227.006154\n",
       "5.0   2.090531e+02  208.189231\n",
       "6.0   2.412454e+02  185.190769\n",
       "7.0   2.734377e+02  158.010769\n",
       "8.0   3.056300e+02  126.649231\n",
       "9.0   3.378224e+02   91.106154\n",
       "10.0  3.700147e+02   51.381538"
      ]
     },
     "execution_count": 50,
     "metadata": {},
     "output_type": "execute_result"
    }
   ],
   "source": [
    "system.resultsplot_position(system.results)"
   ]
  },
  {
   "cell_type": "code",
   "execution_count": 51,
   "metadata": {},
   "outputs": [
    {
     "data": {
      "image/png": "[encoded data removed]",
      "text/plain": [
       "<matplotlib.figure.Figure at 0x1d2357cb978>"
      ]
     },
     "metadata": {},
     "output_type": "display_data"
    }
   ],
   "source": [
    "plot_position(system.results)"
   ]
  },
  {
   "cell_type": "code",
   "execution_count": 49,
   "metadata": {
    "collapsed": true
   },
   "outputs": [],
   "source": [
    "y=system.results.y\n",
    "T=interp_inverse(y, kind=\"cubic\")"
   ]
  },
  {
   "cell_type": "code",
   "execution_count": 36,
   "metadata": {},
   "outputs": [
    {
     "data": {
      "text/plain": [
       "array(1.0152850475092237)"
      ]
     },
     "execution_count": 36,
     "metadata": {},
     "output_type": "execute_result"
    }
   ],
   "source": [
    "T_sidewalk=T(0)\n",
    "T_sidewalk"
   ]
  },
  {
   "cell_type": "code",
   "execution_count": 31,
   "metadata": {},
   "outputs": [],
   "source": [
    "condition.set(duration=T_sidewalk)\n",
    "system=make_system(condition)\n",
    "\n",
    "run_odeint(system, slope_func)"
   ]
  },
  {
   "cell_type": "code",
   "execution_count": 32,
   "metadata": {},
   "outputs": [
    {
     "data": {
      "text/html": [
       "<div>\n",
       "<style>\n",
       "    .dataframe thead tr:only-child th {\n",
       "        text-align: right;\n",
       "    }\n",
       "\n",
       "    .dataframe thead th {\n",
       "        text-align: left;\n",
       "    }\n",
       "\n",
       "    .dataframe tbody tr th {\n",
       "        vertical-align: top;\n",
       "    }\n",
       "</style>\n",
       "<table border=\"1\" class=\"dataframe\">\n",
       "  <thead>\n",
       "    <tr style=\"text-align: right;\">\n",
       "      <th></th>\n",
       "      <th>y</th>\n",
       "      <th>v</th>\n",
       "    </tr>\n",
       "  </thead>\n",
       "  <tbody>\n",
       "    <tr>\n",
       "      <th>0.000000</th>\n",
       "      <td>5.000000</td>\n",
       "      <td>0.000000</td>\n",
       "    </tr>\n",
       "    <tr>\n",
       "      <th>0.101529</th>\n",
       "      <td>4.949491</td>\n",
       "      <td>-0.994979</td>\n",
       "    </tr>\n",
       "    <tr>\n",
       "      <th>0.203057</th>\n",
       "      <td>4.797962</td>\n",
       "      <td>-1.989959</td>\n",
       "    </tr>\n",
       "    <tr>\n",
       "      <th>0.304586</th>\n",
       "      <td>4.545416</td>\n",
       "      <td>-2.984938</td>\n",
       "    </tr>\n",
       "    <tr>\n",
       "      <th>0.406114</th>\n",
       "      <td>4.191850</td>\n",
       "      <td>-3.979917</td>\n",
       "    </tr>\n",
       "    <tr>\n",
       "      <th>0.507643</th>\n",
       "      <td>3.737265</td>\n",
       "      <td>-4.974897</td>\n",
       "    </tr>\n",
       "    <tr>\n",
       "      <th>0.609171</th>\n",
       "      <td>3.181662</td>\n",
       "      <td>-5.969876</td>\n",
       "    </tr>\n",
       "    <tr>\n",
       "      <th>0.710700</th>\n",
       "      <td>2.525040</td>\n",
       "      <td>-6.964855</td>\n",
       "    </tr>\n",
       "    <tr>\n",
       "      <th>0.812228</th>\n",
       "      <td>1.767400</td>\n",
       "      <td>-7.959835</td>\n",
       "    </tr>\n",
       "    <tr>\n",
       "      <th>0.913757</th>\n",
       "      <td>0.908740</td>\n",
       "      <td>-8.954814</td>\n",
       "    </tr>\n",
       "    <tr>\n",
       "      <th>1.015285</th>\n",
       "      <td>-0.050938</td>\n",
       "      <td>-9.949793</td>\n",
       "    </tr>\n",
       "  </tbody>\n",
       "</table>\n",
       "</div>"
      ],
      "text/plain": [
       "                 y         v\n",
       "0.000000  5.000000  0.000000\n",
       "0.101529  4.949491 -0.994979\n",
       "0.203057  4.797962 -1.989959\n",
       "0.304586  4.545416 -2.984938\n",
       "0.406114  4.191850 -3.979917\n",
       "0.507643  3.737265 -4.974897\n",
       "0.609171  3.181662 -5.969876\n",
       "0.710700  2.525040 -6.964855\n",
       "0.812228  1.767400 -7.959835\n",
       "0.913757  0.908740 -8.954814\n",
       "1.015285 -0.050938 -9.949793"
      ]
     },
     "execution_count": 32,
     "metadata": {},
     "output_type": "execute_result"
    }
   ],
   "source": [
    "system.results"
   ]
  },
  {
   "cell_type": "code",
   "execution_count": 33,
   "metadata": {
    "collapsed": true
   },
   "outputs": [],
   "source": [
    "def plot_position(results):\n",
    "    newfig()\n",
    "    plot(results.y, label=\"y\")\n",
    "    decorate(xlabel = \"Time(s)\",\n",
    "             ylabel = \"Position(m)\")"
   ]
  },
  {
   "cell_type": "code",
   "execution_count": 34,
   "metadata": {},
   "outputs": [
    {
     "data": {
      "image/png": "[encoded data removed]",
      "text/plain": [
       "<matplotlib.figure.Figure at 0x1d2352fdc88>"
      ]
     },
     "metadata": {},
     "output_type": "display_data"
    }
   ],
   "source": [
    "plot_position(system.results)"
   ]
  },
  {
   "cell_type": "code",
   "execution_count": null,
   "metadata": {
    "collapsed": true
   },
   "outputs": [],
   "source": []
  }
 ],
 "metadata": {
  "kernelspec": {
   "display_name": "Python 3",
   "language": "python",
   "name": "python3"
  },
  "language_info": {
   "codemirror_mode": {
    "name": "ipython",
    "version": 3
   },
   "file_extension": ".py",
   "mimetype": "text/x-python",
   "name": "python",
   "nbconvert_exporter": "python",
   "pygments_lexer": "ipython3",
   "version": "3.6.1"
  }
 },
 "nbformat": 4,
 "nbformat_minor": 2
}
