{
 "cells": [
  {
   "cell_type": "code",
   "execution_count": 268,
   "metadata": {},
   "outputs": [],
   "source": [
    "%matplotlib inline\n",
    "from modsim import *"
   ]
  },
  {
   "cell_type": "code",
   "execution_count": 269,
   "metadata": {
    "collapsed": true
   },
   "outputs": [],
   "source": [
    "m = UNITS.meter\n",
    "s = UNITS.second\n",
    "kg = UNITS.kilogram\n",
    "N = UNITS.newton\n",
    "degrees = UNITS.degree"
   ]
  },
  {
   "cell_type": "code",
   "execution_count": 312,
   "metadata": {
    "collapsed": true
   },
   "outputs": [],
   "source": [
    "condition = Condition(mass = 26 ,\n",
    "                g = 9.8 ,\n",
    "                k = 6567 ,\n",
    "                v_init= 0,\n",
    "                y_init = 1 ,\n",
    "                duration=5 ,\n",
    "                dt=21 ,\n",
    "                y_attach=0,\n",
    "                length = 0.15)"
   ]
  },
  {
   "cell_type": "markdown",
   "metadata": {},
   "source": [
    "Phase 1"
   ]
  },
  {
   "cell_type": "code",
   "execution_count": 313,
   "metadata": {
    "collapsed": true
   },
   "outputs": [],
   "source": [
    "def make_system(condition):\n",
    "    unpack(condition)\n",
    "    \n",
    "    init = State(y=y_init, v = v_init)\n",
    "    ts = linspace(0,duration, dt)\n",
    "    \n",
    "    return System(init=init, g=g, mass=mass, y_attach=y_attach, k=k, ts=ts)"
   ]
  },
  {
   "cell_type": "code",
   "execution_count": 314,
   "metadata": {},
   "outputs": [
    {
     "data": {
      "text/html": [
       "<div>\n",
       "<style>\n",
       "    .dataframe thead tr:only-child th {\n",
       "        text-align: right;\n",
       "    }\n",
       "\n",
       "    .dataframe thead th {\n",
       "        text-align: left;\n",
       "    }\n",
       "\n",
       "    .dataframe tbody tr th {\n",
       "        vertical-align: top;\n",
       "    }\n",
       "</style>\n",
       "<table border=\"1\" class=\"dataframe\">\n",
       "  <thead>\n",
       "    <tr style=\"text-align: right;\">\n",
       "      <th></th>\n",
       "      <th>value</th>\n",
       "    </tr>\n",
       "  </thead>\n",
       "  <tbody>\n",
       "    <tr>\n",
       "      <th>init</th>\n",
       "      <td>y    1.0\n",
       "v    0.0\n",
       "dtype: float64</td>\n",
       "    </tr>\n",
       "    <tr>\n",
       "      <th>g</th>\n",
       "      <td>9.8</td>\n",
       "    </tr>\n",
       "    <tr>\n",
       "      <th>mass</th>\n",
       "      <td>26</td>\n",
       "    </tr>\n",
       "    <tr>\n",
       "      <th>y_attach</th>\n",
       "      <td>0</td>\n",
       "    </tr>\n",
       "    <tr>\n",
       "      <th>k</th>\n",
       "      <td>6567</td>\n",
       "    </tr>\n",
       "    <tr>\n",
       "      <th>ts</th>\n",
       "      <td>[0.0, 0.25, 0.5, 0.75, 1.0, 1.25, 1.5, 1.75, 2...</td>\n",
       "    </tr>\n",
       "  </tbody>\n",
       "</table>\n",
       "</div>"
      ],
      "text/plain": [
       "init                         y    1.0\n",
       "v    0.0\n",
       "dtype: float64\n",
       "g                                                         9.8\n",
       "mass                                                       26\n",
       "y_attach                                                    0\n",
       "k                                                        6567\n",
       "ts          [0.0, 0.25, 0.5, 0.75, 1.0, 1.25, 1.5, 1.75, 2...\n",
       "dtype: object"
      ]
     },
     "execution_count": 314,
     "metadata": {},
     "output_type": "execute_result"
    }
   ],
   "source": [
    "system=make_system(condition)\n",
    "system"
   ]
  },
  {
   "cell_type": "code",
   "execution_count": 315,
   "metadata": {
    "collapsed": true
   },
   "outputs": [],
   "source": [
    "def slope_func1(state, t, system):\n",
    "    \"\"\"Slope function for when the pogo stick is falling from the set height, currently it is at 3m\n",
    "        AKA PHASE 1, runs until the spring hits the ground, before the spring begins to compress\n",
    "    \"\"\"\n",
    "    \n",
    "    y, v = state\n",
    "    unpack(system)\n",
    "    \n",
    "    dvdt = -g\n",
    "    dydt = v\n",
    "    \n",
    "    return dydt, dvdt"
   ]
  },
  {
   "cell_type": "code",
   "execution_count": 316,
   "metadata": {},
   "outputs": [
    {
     "data": {
      "text/plain": [
       "(0.0, -9.8000000000000007)"
      ]
     },
     "execution_count": 316,
     "metadata": {},
     "output_type": "execute_result"
    }
   ],
   "source": [
    "slope_func1(system.init, 0, system)"
   ]
  },
  {
   "cell_type": "code",
   "execution_count": 317,
   "metadata": {},
   "outputs": [
    {
     "data": {
      "text/html": [
       "<div>\n",
       "<style>\n",
       "    .dataframe thead tr:only-child th {\n",
       "        text-align: right;\n",
       "    }\n",
       "\n",
       "    .dataframe thead th {\n",
       "        text-align: left;\n",
       "    }\n",
       "\n",
       "    .dataframe tbody tr th {\n",
       "        vertical-align: top;\n",
       "    }\n",
       "</style>\n",
       "<table border=\"1\" class=\"dataframe\">\n",
       "  <thead>\n",
       "    <tr style=\"text-align: right;\">\n",
       "      <th></th>\n",
       "      <th>y</th>\n",
       "      <th>v</th>\n",
       "    </tr>\n",
       "  </thead>\n",
       "  <tbody>\n",
       "    <tr>\n",
       "      <th>0.00</th>\n",
       "      <td>1.00000</td>\n",
       "      <td>0.00</td>\n",
       "    </tr>\n",
       "    <tr>\n",
       "      <th>0.25</th>\n",
       "      <td>0.69375</td>\n",
       "      <td>-2.45</td>\n",
       "    </tr>\n",
       "    <tr>\n",
       "      <th>0.50</th>\n",
       "      <td>-0.22500</td>\n",
       "      <td>-4.90</td>\n",
       "    </tr>\n",
       "    <tr>\n",
       "      <th>0.75</th>\n",
       "      <td>-1.75625</td>\n",
       "      <td>-7.35</td>\n",
       "    </tr>\n",
       "    <tr>\n",
       "      <th>1.00</th>\n",
       "      <td>-3.90000</td>\n",
       "      <td>-9.80</td>\n",
       "    </tr>\n",
       "    <tr>\n",
       "      <th>1.25</th>\n",
       "      <td>-6.65625</td>\n",
       "      <td>-12.25</td>\n",
       "    </tr>\n",
       "    <tr>\n",
       "      <th>1.50</th>\n",
       "      <td>-10.02500</td>\n",
       "      <td>-14.70</td>\n",
       "    </tr>\n",
       "    <tr>\n",
       "      <th>1.75</th>\n",
       "      <td>-14.00625</td>\n",
       "      <td>-17.15</td>\n",
       "    </tr>\n",
       "    <tr>\n",
       "      <th>2.00</th>\n",
       "      <td>-18.60000</td>\n",
       "      <td>-19.60</td>\n",
       "    </tr>\n",
       "    <tr>\n",
       "      <th>2.25</th>\n",
       "      <td>-23.80625</td>\n",
       "      <td>-22.05</td>\n",
       "    </tr>\n",
       "    <tr>\n",
       "      <th>2.50</th>\n",
       "      <td>-29.62500</td>\n",
       "      <td>-24.50</td>\n",
       "    </tr>\n",
       "    <tr>\n",
       "      <th>2.75</th>\n",
       "      <td>-36.05625</td>\n",
       "      <td>-26.95</td>\n",
       "    </tr>\n",
       "    <tr>\n",
       "      <th>3.00</th>\n",
       "      <td>-43.10000</td>\n",
       "      <td>-29.40</td>\n",
       "    </tr>\n",
       "    <tr>\n",
       "      <th>3.25</th>\n",
       "      <td>-50.75625</td>\n",
       "      <td>-31.85</td>\n",
       "    </tr>\n",
       "    <tr>\n",
       "      <th>3.50</th>\n",
       "      <td>-59.02500</td>\n",
       "      <td>-34.30</td>\n",
       "    </tr>\n",
       "    <tr>\n",
       "      <th>3.75</th>\n",
       "      <td>-67.90625</td>\n",
       "      <td>-36.75</td>\n",
       "    </tr>\n",
       "    <tr>\n",
       "      <th>4.00</th>\n",
       "      <td>-77.40000</td>\n",
       "      <td>-39.20</td>\n",
       "    </tr>\n",
       "    <tr>\n",
       "      <th>4.25</th>\n",
       "      <td>-87.50625</td>\n",
       "      <td>-41.65</td>\n",
       "    </tr>\n",
       "    <tr>\n",
       "      <th>4.50</th>\n",
       "      <td>-98.22500</td>\n",
       "      <td>-44.10</td>\n",
       "    </tr>\n",
       "    <tr>\n",
       "      <th>4.75</th>\n",
       "      <td>-109.55625</td>\n",
       "      <td>-46.55</td>\n",
       "    </tr>\n",
       "    <tr>\n",
       "      <th>5.00</th>\n",
       "      <td>-121.50000</td>\n",
       "      <td>-49.00</td>\n",
       "    </tr>\n",
       "  </tbody>\n",
       "</table>\n",
       "</div>"
      ],
      "text/plain": [
       "              y      v\n",
       "0.00    1.00000   0.00\n",
       "0.25    0.69375  -2.45\n",
       "0.50   -0.22500  -4.90\n",
       "0.75   -1.75625  -7.35\n",
       "1.00   -3.90000  -9.80\n",
       "1.25   -6.65625 -12.25\n",
       "1.50  -10.02500 -14.70\n",
       "1.75  -14.00625 -17.15\n",
       "2.00  -18.60000 -19.60\n",
       "2.25  -23.80625 -22.05\n",
       "2.50  -29.62500 -24.50\n",
       "2.75  -36.05625 -26.95\n",
       "3.00  -43.10000 -29.40\n",
       "3.25  -50.75625 -31.85\n",
       "3.50  -59.02500 -34.30\n",
       "3.75  -67.90625 -36.75\n",
       "4.00  -77.40000 -39.20\n",
       "4.25  -87.50625 -41.65\n",
       "4.50  -98.22500 -44.10\n",
       "4.75 -109.55625 -46.55\n",
       "5.00 -121.50000 -49.00"
      ]
     },
     "execution_count": 317,
     "metadata": {},
     "output_type": "execute_result"
    }
   ],
   "source": [
    "run_odeint(system, slope_func1)\n",
    "system.results"
   ]
  },
  {
   "cell_type": "code",
   "execution_count": 318,
   "metadata": {},
   "outputs": [
    {
     "data": {
      "text/plain": [
       "0.00      1.00000\n",
       "0.25      0.69375\n",
       "0.50     -0.22500\n",
       "0.75     -1.75625\n",
       "1.00     -3.90000\n",
       "1.25     -6.65625\n",
       "1.50    -10.02500\n",
       "1.75    -14.00625\n",
       "2.00    -18.60000\n",
       "2.25    -23.80625\n",
       "2.50    -29.62500\n",
       "2.75    -36.05625\n",
       "3.00    -43.10000\n",
       "3.25    -50.75625\n",
       "3.50    -59.02500\n",
       "3.75    -67.90625\n",
       "4.00    -77.40000\n",
       "4.25    -87.50625\n",
       "4.50    -98.22500\n",
       "4.75   -109.55625\n",
       "5.00   -121.50000\n",
       "Name: y, dtype: float64"
      ]
     },
     "execution_count": 318,
     "metadata": {},
     "output_type": "execute_result"
    }
   ],
   "source": [
    "y= system.results.y\n",
    "T=interp_inverse(y)\n",
    "y"
   ]
  },
  {
   "cell_type": "code",
   "execution_count": 319,
   "metadata": {},
   "outputs": [
    {
     "data": {
      "text/plain": [
       "array(0.43877550984941793)"
      ]
     },
     "execution_count": 319,
     "metadata": {},
     "output_type": "execute_result"
    }
   ],
   "source": [
    "T_phase1=T(0)\n",
    "T_phase1"
   ]
  },
  {
   "cell_type": "code",
   "execution_count": 320,
   "metadata": {
    "collapsed": true
   },
   "outputs": [],
   "source": [
    "#creating a new system and running a new simulation that stops when the spring hits the ground\n",
    "\n",
    "condition.set(duration=T_phase1)\n",
    "system = make_system(condition = condition)\n",
    "run_odeint(system, slope_func1)"
   ]
  },
  {
   "cell_type": "code",
   "execution_count": 321,
   "metadata": {
    "collapsed": true
   },
   "outputs": [],
   "source": [
    "def final_falling_state(system):\n",
    "    \"\"\"returns the velocity and position \n",
    "    the instant that the spring touches the ground \"\"\"\n",
    "    \n",
    "    t_end= system.results.index[-1]\n",
    "    y, v = system.results.loc[t_end]\n",
    "    return y, v"
   ]
  },
  {
   "cell_type": "code",
   "execution_count": 322,
   "metadata": {},
   "outputs": [
    {
     "data": {
      "text/plain": [
       "0.056632654519097381"
      ]
     },
     "execution_count": 322,
     "metadata": {},
     "output_type": "execute_result"
    }
   ],
   "source": [
    "y_final, v_final = final_falling_state(system)\n",
    "y_final"
   ]
  },
  {
   "cell_type": "code",
   "execution_count": 323,
   "metadata": {},
   "outputs": [
    {
     "data": {
      "text/plain": [
       "-4.2999999965242965"
      ]
     },
     "execution_count": 323,
     "metadata": {},
     "output_type": "execute_result"
    }
   ],
   "source": [
    "v_final"
   ]
  },
  {
   "cell_type": "code",
   "execution_count": 324,
   "metadata": {
    "collapsed": true
   },
   "outputs": [],
   "source": [
    "def plot_position(results):\n",
    "    \n",
    "    newfig()\n",
    "    plot (results.y, label='y')\n",
    "    \n",
    "    decorate(xlabel=\"Time(s)\",\n",
    "             ylabel = \"Position(m)\")"
   ]
  },
  {
   "cell_type": "code",
   "execution_count": 325,
   "metadata": {},
   "outputs": [
    {
     "data": {
      "image/png": "[encoded data removed]",
      "text/plain": [
       "<matplotlib.figure.Figure at 0x2b848f8b780>"
      ]
     },
     "metadata": {},
     "output_type": "display_data"
    }
   ],
   "source": [
    "plot_position(system.results)"
   ]
  },
  {
   "cell_type": "code",
   "execution_count": 326,
   "metadata": {
    "collapsed": true
   },
   "outputs": [],
   "source": [
    "time=0.1\n",
    "F_s = length*k\n",
    "a_s=F_s/mass\n",
    "v_s = a_s*time"
   ]
  },
  {
   "cell_type": "code",
   "execution_count": 327,
   "metadata": {
    "collapsed": true
   },
   "outputs": [],
   "source": [
    "condition2 = Condition(mass = 26 ,\n",
    "                g = 9.8 ,\n",
    "                k = 6567 ,\n",
    "                v_init= v_s,\n",
    "                y_init = 0 ,\n",
    "                duration=5 ,\n",
    "                dt=101 ,\n",
    "                y_attach=0,\n",
    "                length = 0.15)"
   ]
  },
  {
   "cell_type": "code",
   "execution_count": 328,
   "metadata": {
    "collapsed": true
   },
   "outputs": [],
   "source": [
    "def make_system2(condition):\n",
    "    unpack(condition)\n",
    "    \n",
    "    init = State(y=y_init, v = v_init)\n",
    "    ts = linspace(T_phase1, T_phase1+duration, dt)\n",
    "    \n",
    "    return System(init=init, g=g, mass=mass, y_attach=y_attach, k=k, ts=ts)"
   ]
  },
  {
   "cell_type": "markdown",
   "metadata": {},
   "source": [
    "Phase 2"
   ]
  },
  {
   "cell_type": "code",
   "execution_count": 329,
   "metadata": {
    "collapsed": true
   },
   "outputs": [],
   "source": [
    "system2 = make_system2(condition2)"
   ]
  },
  {
   "cell_type": "code",
   "execution_count": null,
   "metadata": {
    "collapsed": true
   },
   "outputs": [],
   "source": []
  },
  {
   "cell_type": "code",
   "execution_count": 330,
   "metadata": {
    "collapsed": true
   },
   "outputs": [],
   "source": [
    "def spring_force_v(y, y_attach, length, k):\n",
    "    x = abs(y-length+y_attach)\n",
    "    F_s = k*x\n",
    "    return F_s"
   ]
  },
  {
   "cell_type": "code",
   "execution_count": 331,
   "metadata": {
    "collapsed": true
   },
   "outputs": [],
   "source": [
    "def slope_func2(state, t, system):\n",
    "    \"\"\"Slope function for when the pogo stick is uncompressing\n",
    "    \"\"\"\n",
    "    y, v = state\n",
    "    unpack(system)\n",
    "    \n",
    "    dvdt = a_s\n",
    "    dydt = v\n",
    "    \n",
    "    return dydt, dvdt"
   ]
  },
  {
   "cell_type": "code",
   "execution_count": 332,
   "metadata": {
    "collapsed": true
   },
   "outputs": [],
   "source": [
    "run_odeint(system2, slope_func1)\n"
   ]
  },
  {
   "cell_type": "code",
   "execution_count": 333,
   "metadata": {},
   "outputs": [
    {
     "data": {
      "text/html": [
       "<div>\n",
       "<style>\n",
       "    .dataframe thead tr:only-child th {\n",
       "        text-align: right;\n",
       "    }\n",
       "\n",
       "    .dataframe thead th {\n",
       "        text-align: left;\n",
       "    }\n",
       "\n",
       "    .dataframe tbody tr th {\n",
       "        vertical-align: top;\n",
       "    }\n",
       "</style>\n",
       "<table border=\"1\" class=\"dataframe\">\n",
       "  <thead>\n",
       "    <tr style=\"text-align: right;\">\n",
       "      <th></th>\n",
       "      <th>y</th>\n",
       "      <th>v</th>\n",
       "    </tr>\n",
       "  </thead>\n",
       "  <tbody>\n",
       "    <tr>\n",
       "      <th>0.438776</th>\n",
       "      <td>0.000000</td>\n",
       "      <td>3.788654</td>\n",
       "    </tr>\n",
       "    <tr>\n",
       "      <th>0.488776</th>\n",
       "      <td>0.177183</td>\n",
       "      <td>3.298654</td>\n",
       "    </tr>\n",
       "    <tr>\n",
       "      <th>0.538776</th>\n",
       "      <td>0.329865</td>\n",
       "      <td>2.808654</td>\n",
       "    </tr>\n",
       "    <tr>\n",
       "      <th>0.588776</th>\n",
       "      <td>0.458048</td>\n",
       "      <td>2.318654</td>\n",
       "    </tr>\n",
       "    <tr>\n",
       "      <th>0.638776</th>\n",
       "      <td>0.561731</td>\n",
       "      <td>1.828654</td>\n",
       "    </tr>\n",
       "    <tr>\n",
       "      <th>0.688776</th>\n",
       "      <td>0.640913</td>\n",
       "      <td>1.338654</td>\n",
       "    </tr>\n",
       "    <tr>\n",
       "      <th>0.738776</th>\n",
       "      <td>0.695596</td>\n",
       "      <td>0.848654</td>\n",
       "    </tr>\n",
       "    <tr>\n",
       "      <th>0.788776</th>\n",
       "      <td>0.725779</td>\n",
       "      <td>0.358654</td>\n",
       "    </tr>\n",
       "    <tr>\n",
       "      <th>0.838776</th>\n",
       "      <td>0.731462</td>\n",
       "      <td>-0.131346</td>\n",
       "    </tr>\n",
       "    <tr>\n",
       "      <th>0.888776</th>\n",
       "      <td>0.712644</td>\n",
       "      <td>-0.621346</td>\n",
       "    </tr>\n",
       "    <tr>\n",
       "      <th>0.938776</th>\n",
       "      <td>0.669327</td>\n",
       "      <td>-1.111346</td>\n",
       "    </tr>\n",
       "    <tr>\n",
       "      <th>0.988776</th>\n",
       "      <td>0.601510</td>\n",
       "      <td>-1.601346</td>\n",
       "    </tr>\n",
       "    <tr>\n",
       "      <th>1.038776</th>\n",
       "      <td>0.509192</td>\n",
       "      <td>-2.091346</td>\n",
       "    </tr>\n",
       "    <tr>\n",
       "      <th>1.088776</th>\n",
       "      <td>0.392375</td>\n",
       "      <td>-2.581346</td>\n",
       "    </tr>\n",
       "    <tr>\n",
       "      <th>1.138776</th>\n",
       "      <td>0.251058</td>\n",
       "      <td>-3.071346</td>\n",
       "    </tr>\n",
       "    <tr>\n",
       "      <th>1.188776</th>\n",
       "      <td>0.085240</td>\n",
       "      <td>-3.561346</td>\n",
       "    </tr>\n",
       "    <tr>\n",
       "      <th>1.238776</th>\n",
       "      <td>-0.105077</td>\n",
       "      <td>-4.051346</td>\n",
       "    </tr>\n",
       "    <tr>\n",
       "      <th>1.288776</th>\n",
       "      <td>-0.319894</td>\n",
       "      <td>-4.541346</td>\n",
       "    </tr>\n",
       "    <tr>\n",
       "      <th>1.338776</th>\n",
       "      <td>-0.559212</td>\n",
       "      <td>-5.031346</td>\n",
       "    </tr>\n",
       "    <tr>\n",
       "      <th>1.388776</th>\n",
       "      <td>-0.823029</td>\n",
       "      <td>-5.521346</td>\n",
       "    </tr>\n",
       "    <tr>\n",
       "      <th>1.438776</th>\n",
       "      <td>-1.111346</td>\n",
       "      <td>-6.011346</td>\n",
       "    </tr>\n",
       "    <tr>\n",
       "      <th>1.488776</th>\n",
       "      <td>-1.424163</td>\n",
       "      <td>-6.501346</td>\n",
       "    </tr>\n",
       "    <tr>\n",
       "      <th>1.538776</th>\n",
       "      <td>-1.761481</td>\n",
       "      <td>-6.991346</td>\n",
       "    </tr>\n",
       "    <tr>\n",
       "      <th>1.588776</th>\n",
       "      <td>-2.123298</td>\n",
       "      <td>-7.481346</td>\n",
       "    </tr>\n",
       "    <tr>\n",
       "      <th>1.638776</th>\n",
       "      <td>-2.509615</td>\n",
       "      <td>-7.971346</td>\n",
       "    </tr>\n",
       "    <tr>\n",
       "      <th>1.688776</th>\n",
       "      <td>-2.920433</td>\n",
       "      <td>-8.461346</td>\n",
       "    </tr>\n",
       "    <tr>\n",
       "      <th>1.738776</th>\n",
       "      <td>-3.355750</td>\n",
       "      <td>-8.951346</td>\n",
       "    </tr>\n",
       "    <tr>\n",
       "      <th>1.788776</th>\n",
       "      <td>-3.815567</td>\n",
       "      <td>-9.441346</td>\n",
       "    </tr>\n",
       "    <tr>\n",
       "      <th>1.838776</th>\n",
       "      <td>-4.299885</td>\n",
       "      <td>-9.931346</td>\n",
       "    </tr>\n",
       "    <tr>\n",
       "      <th>1.888776</th>\n",
       "      <td>-4.808702</td>\n",
       "      <td>-10.421346</td>\n",
       "    </tr>\n",
       "    <tr>\n",
       "      <th>...</th>\n",
       "      <td>...</td>\n",
       "      <td>...</td>\n",
       "    </tr>\n",
       "    <tr>\n",
       "      <th>3.988776</th>\n",
       "      <td>-48.302529</td>\n",
       "      <td>-31.001346</td>\n",
       "    </tr>\n",
       "    <tr>\n",
       "      <th>4.038776</th>\n",
       "      <td>-49.864846</td>\n",
       "      <td>-31.491346</td>\n",
       "    </tr>\n",
       "    <tr>\n",
       "      <th>4.088776</th>\n",
       "      <td>-51.451663</td>\n",
       "      <td>-31.981346</td>\n",
       "    </tr>\n",
       "    <tr>\n",
       "      <th>4.138776</th>\n",
       "      <td>-53.062981</td>\n",
       "      <td>-32.471346</td>\n",
       "    </tr>\n",
       "    <tr>\n",
       "      <th>4.188776</th>\n",
       "      <td>-54.698798</td>\n",
       "      <td>-32.961346</td>\n",
       "    </tr>\n",
       "    <tr>\n",
       "      <th>4.238776</th>\n",
       "      <td>-56.359115</td>\n",
       "      <td>-33.451346</td>\n",
       "    </tr>\n",
       "    <tr>\n",
       "      <th>4.288776</th>\n",
       "      <td>-58.043933</td>\n",
       "      <td>-33.941346</td>\n",
       "    </tr>\n",
       "    <tr>\n",
       "      <th>4.338776</th>\n",
       "      <td>-59.753250</td>\n",
       "      <td>-34.431346</td>\n",
       "    </tr>\n",
       "    <tr>\n",
       "      <th>4.388776</th>\n",
       "      <td>-61.487067</td>\n",
       "      <td>-34.921346</td>\n",
       "    </tr>\n",
       "    <tr>\n",
       "      <th>4.438776</th>\n",
       "      <td>-63.245385</td>\n",
       "      <td>-35.411346</td>\n",
       "    </tr>\n",
       "    <tr>\n",
       "      <th>4.488776</th>\n",
       "      <td>-65.028202</td>\n",
       "      <td>-35.901346</td>\n",
       "    </tr>\n",
       "    <tr>\n",
       "      <th>4.538776</th>\n",
       "      <td>-66.835519</td>\n",
       "      <td>-36.391346</td>\n",
       "    </tr>\n",
       "    <tr>\n",
       "      <th>4.588776</th>\n",
       "      <td>-68.667337</td>\n",
       "      <td>-36.881346</td>\n",
       "    </tr>\n",
       "    <tr>\n",
       "      <th>4.638776</th>\n",
       "      <td>-70.523654</td>\n",
       "      <td>-37.371346</td>\n",
       "    </tr>\n",
       "    <tr>\n",
       "      <th>4.688776</th>\n",
       "      <td>-72.404471</td>\n",
       "      <td>-37.861346</td>\n",
       "    </tr>\n",
       "    <tr>\n",
       "      <th>4.738776</th>\n",
       "      <td>-74.309788</td>\n",
       "      <td>-38.351346</td>\n",
       "    </tr>\n",
       "    <tr>\n",
       "      <th>4.788776</th>\n",
       "      <td>-76.239606</td>\n",
       "      <td>-38.841346</td>\n",
       "    </tr>\n",
       "    <tr>\n",
       "      <th>4.838776</th>\n",
       "      <td>-78.193923</td>\n",
       "      <td>-39.331346</td>\n",
       "    </tr>\n",
       "    <tr>\n",
       "      <th>4.888776</th>\n",
       "      <td>-80.172740</td>\n",
       "      <td>-39.821346</td>\n",
       "    </tr>\n",
       "    <tr>\n",
       "      <th>4.938776</th>\n",
       "      <td>-82.176058</td>\n",
       "      <td>-40.311346</td>\n",
       "    </tr>\n",
       "    <tr>\n",
       "      <th>4.988776</th>\n",
       "      <td>-84.203875</td>\n",
       "      <td>-40.801346</td>\n",
       "    </tr>\n",
       "    <tr>\n",
       "      <th>5.038776</th>\n",
       "      <td>-86.256192</td>\n",
       "      <td>-41.291346</td>\n",
       "    </tr>\n",
       "    <tr>\n",
       "      <th>5.088776</th>\n",
       "      <td>-88.333010</td>\n",
       "      <td>-41.781346</td>\n",
       "    </tr>\n",
       "    <tr>\n",
       "      <th>5.138776</th>\n",
       "      <td>-90.434327</td>\n",
       "      <td>-42.271346</td>\n",
       "    </tr>\n",
       "    <tr>\n",
       "      <th>5.188776</th>\n",
       "      <td>-92.560144</td>\n",
       "      <td>-42.761346</td>\n",
       "    </tr>\n",
       "    <tr>\n",
       "      <th>5.238776</th>\n",
       "      <td>-94.710462</td>\n",
       "      <td>-43.251346</td>\n",
       "    </tr>\n",
       "    <tr>\n",
       "      <th>5.288776</th>\n",
       "      <td>-96.885279</td>\n",
       "      <td>-43.741346</td>\n",
       "    </tr>\n",
       "    <tr>\n",
       "      <th>5.338776</th>\n",
       "      <td>-99.084596</td>\n",
       "      <td>-44.231346</td>\n",
       "    </tr>\n",
       "    <tr>\n",
       "      <th>5.388776</th>\n",
       "      <td>-101.308413</td>\n",
       "      <td>-44.721346</td>\n",
       "    </tr>\n",
       "    <tr>\n",
       "      <th>5.438776</th>\n",
       "      <td>-103.556731</td>\n",
       "      <td>-45.211346</td>\n",
       "    </tr>\n",
       "  </tbody>\n",
       "</table>\n",
       "<p>101 rows × 2 columns</p>\n",
       "</div>"
      ],
      "text/plain": [
       "                   y          v\n",
       "0.438776    0.000000   3.788654\n",
       "0.488776    0.177183   3.298654\n",
       "0.538776    0.329865   2.808654\n",
       "0.588776    0.458048   2.318654\n",
       "0.638776    0.561731   1.828654\n",
       "0.688776    0.640913   1.338654\n",
       "0.738776    0.695596   0.848654\n",
       "0.788776    0.725779   0.358654\n",
       "0.838776    0.731462  -0.131346\n",
       "0.888776    0.712644  -0.621346\n",
       "0.938776    0.669327  -1.111346\n",
       "0.988776    0.601510  -1.601346\n",
       "1.038776    0.509192  -2.091346\n",
       "1.088776    0.392375  -2.581346\n",
       "1.138776    0.251058  -3.071346\n",
       "1.188776    0.085240  -3.561346\n",
       "1.238776   -0.105077  -4.051346\n",
       "1.288776   -0.319894  -4.541346\n",
       "1.338776   -0.559212  -5.031346\n",
       "1.388776   -0.823029  -5.521346\n",
       "1.438776   -1.111346  -6.011346\n",
       "1.488776   -1.424163  -6.501346\n",
       "1.538776   -1.761481  -6.991346\n",
       "1.588776   -2.123298  -7.481346\n",
       "1.638776   -2.509615  -7.971346\n",
       "1.688776   -2.920433  -8.461346\n",
       "1.738776   -3.355750  -8.951346\n",
       "1.788776   -3.815567  -9.441346\n",
       "1.838776   -4.299885  -9.931346\n",
       "1.888776   -4.808702 -10.421346\n",
       "...              ...        ...\n",
       "3.988776  -48.302529 -31.001346\n",
       "4.038776  -49.864846 -31.491346\n",
       "4.088776  -51.451663 -31.981346\n",
       "4.138776  -53.062981 -32.471346\n",
       "4.188776  -54.698798 -32.961346\n",
       "4.238776  -56.359115 -33.451346\n",
       "4.288776  -58.043933 -33.941346\n",
       "4.338776  -59.753250 -34.431346\n",
       "4.388776  -61.487067 -34.921346\n",
       "4.438776  -63.245385 -35.411346\n",
       "4.488776  -65.028202 -35.901346\n",
       "4.538776  -66.835519 -36.391346\n",
       "4.588776  -68.667337 -36.881346\n",
       "4.638776  -70.523654 -37.371346\n",
       "4.688776  -72.404471 -37.861346\n",
       "4.738776  -74.309788 -38.351346\n",
       "4.788776  -76.239606 -38.841346\n",
       "4.838776  -78.193923 -39.331346\n",
       "4.888776  -80.172740 -39.821346\n",
       "4.938776  -82.176058 -40.311346\n",
       "4.988776  -84.203875 -40.801346\n",
       "5.038776  -86.256192 -41.291346\n",
       "5.088776  -88.333010 -41.781346\n",
       "5.138776  -90.434327 -42.271346\n",
       "5.188776  -92.560144 -42.761346\n",
       "5.238776  -94.710462 -43.251346\n",
       "5.288776  -96.885279 -43.741346\n",
       "5.338776  -99.084596 -44.231346\n",
       "5.388776 -101.308413 -44.721346\n",
       "5.438776 -103.556731 -45.211346\n",
       "\n",
       "[101 rows x 2 columns]"
      ]
     },
     "execution_count": 333,
     "metadata": {},
     "output_type": "execute_result"
    }
   ],
   "source": [
    "system2.results"
   ]
  },
  {
   "cell_type": "code",
   "execution_count": 334,
   "metadata": {
    "scrolled": true
   },
   "outputs": [],
   "source": [
    "v2= system2.results.v\n",
    "T2=interp_inverse(v2)"
   ]
  },
  {
   "cell_type": "code",
   "execution_count": 335,
   "metadata": {},
   "outputs": [
    {
     "data": {
      "text/plain": [
       "array(0.8253728410896061)"
      ]
     },
     "execution_count": 335,
     "metadata": {},
     "output_type": "execute_result"
    }
   ],
   "source": [
    "T_phase2=T2(0)\n",
    "T_phase2"
   ]
  },
  {
   "cell_type": "code",
   "execution_count": 336,
   "metadata": {},
   "outputs": [],
   "source": [
    "def make_system2b(condition):\n",
    "    unpack(condition)\n",
    "    \n",
    "    init = State(y=y_init, v = v_init)\n",
    "    ts = linspace(T_phase1, duration, dt)\n",
    "    \n",
    "    return System(init=init, g=g, mass=mass, y_attach=y_attach, k=k, ts=ts)"
   ]
  },
  {
   "cell_type": "code",
   "execution_count": 337,
   "metadata": {},
   "outputs": [],
   "source": [
    "#creating a new system and running a new simulation that stops when the spring hits the ground\n",
    "\n",
    "condition2.set(duration=T_phase2)\n",
    "system2 = make_system2b(condition = condition2)\n",
    "run_odeint(system2, slope_func1)"
   ]
  },
  {
   "cell_type": "code",
   "execution_count": 338,
   "metadata": {},
   "outputs": [
    {
     "data": {
      "image/png": "[encoded data removed]",
      "text/plain": [
       "<matplotlib.figure.Figure at 0x2b848fa5470>"
      ]
     },
     "metadata": {},
     "output_type": "display_data"
    }
   ],
   "source": [
    "plot_position(system2.results)"
   ]
  },
  {
   "cell_type": "code",
   "execution_count": 339,
   "metadata": {},
   "outputs": [
    {
     "data": {
      "text/plain": [
       "0.73234172545289633"
      ]
     },
     "execution_count": 339,
     "metadata": {},
     "output_type": "execute_result"
    }
   ],
   "source": [
    "y_final_2, v_final_2 = final_falling_state(system2)\n",
    "y_final_2"
   ]
  },
  {
   "cell_type": "code",
   "execution_count": 340,
   "metadata": {},
   "outputs": [
    {
     "data": {
      "text/plain": [
       "2.886579864025407e-15"
      ]
     },
     "execution_count": 340,
     "metadata": {},
     "output_type": "execute_result"
    }
   ],
   "source": [
    "v_final_2"
   ]
  },
  {
   "cell_type": "markdown",
   "metadata": {},
   "source": [
    "Phase 3"
   ]
  },
  {
   "cell_type": "code",
   "execution_count": 341,
   "metadata": {
    "collapsed": true
   },
   "outputs": [],
   "source": [
    "condition3 = Condition(mass = 26 ,\n",
    "                g = 9.8 ,\n",
    "                k = 6567 ,\n",
    "                v_init= 0,\n",
    "                y_init = y_final_2 ,\n",
    "                duration=2 ,\n",
    "                dt=101 ,\n",
    "                y_attach=0,\n",
    "                length = 0.15)"
   ]
  },
  {
   "cell_type": "code",
   "execution_count": 342,
   "metadata": {
    "collapsed": true
   },
   "outputs": [],
   "source": [
    "def make_system3(condition):\n",
    "    unpack(condition)\n",
    "    \n",
    "    init = State(y=y_init, v = v_init)\n",
    "    ts = linspace(T_phase2, T_phase2+duration, dt)\n",
    "    \n",
    "    return System(init=init, g=g, mass=mass, y_attach=y_attach, k=k, ts=ts)"
   ]
  },
  {
   "cell_type": "code",
   "execution_count": 343,
   "metadata": {
    "collapsed": true
   },
   "outputs": [],
   "source": [
    "system3=make_system3(condition3)"
   ]
  },
  {
   "cell_type": "code",
   "execution_count": 344,
   "metadata": {
    "collapsed": true
   },
   "outputs": [],
   "source": [
    "run_odeint(system3, slope_func1)"
   ]
  },
  {
   "cell_type": "code",
   "execution_count": 345,
   "metadata": {},
   "outputs": [
    {
     "data": {
      "text/html": [
       "<div>\n",
       "<style>\n",
       "    .dataframe thead tr:only-child th {\n",
       "        text-align: right;\n",
       "    }\n",
       "\n",
       "    .dataframe thead th {\n",
       "        text-align: left;\n",
       "    }\n",
       "\n",
       "    .dataframe tbody tr th {\n",
       "        vertical-align: top;\n",
       "    }\n",
       "</style>\n",
       "<table border=\"1\" class=\"dataframe\">\n",
       "  <thead>\n",
       "    <tr style=\"text-align: right;\">\n",
       "      <th></th>\n",
       "      <th>y</th>\n",
       "      <th>v</th>\n",
       "    </tr>\n",
       "  </thead>\n",
       "  <tbody>\n",
       "    <tr>\n",
       "      <th>0.825373</th>\n",
       "      <td>0.732342</td>\n",
       "      <td>0.000</td>\n",
       "    </tr>\n",
       "    <tr>\n",
       "      <th>0.845373</th>\n",
       "      <td>0.730382</td>\n",
       "      <td>-0.196</td>\n",
       "    </tr>\n",
       "    <tr>\n",
       "      <th>0.865373</th>\n",
       "      <td>0.724502</td>\n",
       "      <td>-0.392</td>\n",
       "    </tr>\n",
       "    <tr>\n",
       "      <th>0.885373</th>\n",
       "      <td>0.714702</td>\n",
       "      <td>-0.588</td>\n",
       "    </tr>\n",
       "    <tr>\n",
       "      <th>0.905373</th>\n",
       "      <td>0.700982</td>\n",
       "      <td>-0.784</td>\n",
       "    </tr>\n",
       "    <tr>\n",
       "      <th>0.925373</th>\n",
       "      <td>0.683342</td>\n",
       "      <td>-0.980</td>\n",
       "    </tr>\n",
       "    <tr>\n",
       "      <th>0.945373</th>\n",
       "      <td>0.661782</td>\n",
       "      <td>-1.176</td>\n",
       "    </tr>\n",
       "    <tr>\n",
       "      <th>0.965373</th>\n",
       "      <td>0.636302</td>\n",
       "      <td>-1.372</td>\n",
       "    </tr>\n",
       "    <tr>\n",
       "      <th>0.985373</th>\n",
       "      <td>0.606902</td>\n",
       "      <td>-1.568</td>\n",
       "    </tr>\n",
       "    <tr>\n",
       "      <th>1.005373</th>\n",
       "      <td>0.573582</td>\n",
       "      <td>-1.764</td>\n",
       "    </tr>\n",
       "    <tr>\n",
       "      <th>1.025373</th>\n",
       "      <td>0.536342</td>\n",
       "      <td>-1.960</td>\n",
       "    </tr>\n",
       "    <tr>\n",
       "      <th>1.045373</th>\n",
       "      <td>0.495182</td>\n",
       "      <td>-2.156</td>\n",
       "    </tr>\n",
       "    <tr>\n",
       "      <th>1.065373</th>\n",
       "      <td>0.450102</td>\n",
       "      <td>-2.352</td>\n",
       "    </tr>\n",
       "    <tr>\n",
       "      <th>1.085373</th>\n",
       "      <td>0.401102</td>\n",
       "      <td>-2.548</td>\n",
       "    </tr>\n",
       "    <tr>\n",
       "      <th>1.105373</th>\n",
       "      <td>0.348182</td>\n",
       "      <td>-2.744</td>\n",
       "    </tr>\n",
       "    <tr>\n",
       "      <th>1.125373</th>\n",
       "      <td>0.291342</td>\n",
       "      <td>-2.940</td>\n",
       "    </tr>\n",
       "    <tr>\n",
       "      <th>1.145373</th>\n",
       "      <td>0.230582</td>\n",
       "      <td>-3.136</td>\n",
       "    </tr>\n",
       "    <tr>\n",
       "      <th>1.165373</th>\n",
       "      <td>0.165902</td>\n",
       "      <td>-3.332</td>\n",
       "    </tr>\n",
       "    <tr>\n",
       "      <th>1.185373</th>\n",
       "      <td>0.097302</td>\n",
       "      <td>-3.528</td>\n",
       "    </tr>\n",
       "    <tr>\n",
       "      <th>1.205373</th>\n",
       "      <td>0.024782</td>\n",
       "      <td>-3.724</td>\n",
       "    </tr>\n",
       "    <tr>\n",
       "      <th>1.225373</th>\n",
       "      <td>-0.051658</td>\n",
       "      <td>-3.920</td>\n",
       "    </tr>\n",
       "    <tr>\n",
       "      <th>1.245373</th>\n",
       "      <td>-0.132018</td>\n",
       "      <td>-4.116</td>\n",
       "    </tr>\n",
       "    <tr>\n",
       "      <th>1.265373</th>\n",
       "      <td>-0.216298</td>\n",
       "      <td>-4.312</td>\n",
       "    </tr>\n",
       "    <tr>\n",
       "      <th>1.285373</th>\n",
       "      <td>-0.304498</td>\n",
       "      <td>-4.508</td>\n",
       "    </tr>\n",
       "    <tr>\n",
       "      <th>1.305373</th>\n",
       "      <td>-0.396618</td>\n",
       "      <td>-4.704</td>\n",
       "    </tr>\n",
       "    <tr>\n",
       "      <th>1.325373</th>\n",
       "      <td>-0.492658</td>\n",
       "      <td>-4.900</td>\n",
       "    </tr>\n",
       "    <tr>\n",
       "      <th>1.345373</th>\n",
       "      <td>-0.592618</td>\n",
       "      <td>-5.096</td>\n",
       "    </tr>\n",
       "    <tr>\n",
       "      <th>1.365373</th>\n",
       "      <td>-0.696498</td>\n",
       "      <td>-5.292</td>\n",
       "    </tr>\n",
       "    <tr>\n",
       "      <th>1.385373</th>\n",
       "      <td>-0.804298</td>\n",
       "      <td>-5.488</td>\n",
       "    </tr>\n",
       "    <tr>\n",
       "      <th>1.405373</th>\n",
       "      <td>-0.916018</td>\n",
       "      <td>-5.684</td>\n",
       "    </tr>\n",
       "    <tr>\n",
       "      <th>...</th>\n",
       "      <td>...</td>\n",
       "      <td>...</td>\n",
       "    </tr>\n",
       "    <tr>\n",
       "      <th>2.245373</th>\n",
       "      <td>-9.148018</td>\n",
       "      <td>-13.916</td>\n",
       "    </tr>\n",
       "    <tr>\n",
       "      <th>2.265373</th>\n",
       "      <td>-9.428298</td>\n",
       "      <td>-14.112</td>\n",
       "    </tr>\n",
       "    <tr>\n",
       "      <th>2.285373</th>\n",
       "      <td>-9.712498</td>\n",
       "      <td>-14.308</td>\n",
       "    </tr>\n",
       "    <tr>\n",
       "      <th>2.305373</th>\n",
       "      <td>-10.000618</td>\n",
       "      <td>-14.504</td>\n",
       "    </tr>\n",
       "    <tr>\n",
       "      <th>2.325373</th>\n",
       "      <td>-10.292658</td>\n",
       "      <td>-14.700</td>\n",
       "    </tr>\n",
       "    <tr>\n",
       "      <th>2.345373</th>\n",
       "      <td>-10.588618</td>\n",
       "      <td>-14.896</td>\n",
       "    </tr>\n",
       "    <tr>\n",
       "      <th>2.365373</th>\n",
       "      <td>-10.888498</td>\n",
       "      <td>-15.092</td>\n",
       "    </tr>\n",
       "    <tr>\n",
       "      <th>2.385373</th>\n",
       "      <td>-11.192298</td>\n",
       "      <td>-15.288</td>\n",
       "    </tr>\n",
       "    <tr>\n",
       "      <th>2.405373</th>\n",
       "      <td>-11.500018</td>\n",
       "      <td>-15.484</td>\n",
       "    </tr>\n",
       "    <tr>\n",
       "      <th>2.425373</th>\n",
       "      <td>-11.811658</td>\n",
       "      <td>-15.680</td>\n",
       "    </tr>\n",
       "    <tr>\n",
       "      <th>2.445373</th>\n",
       "      <td>-12.127218</td>\n",
       "      <td>-15.876</td>\n",
       "    </tr>\n",
       "    <tr>\n",
       "      <th>2.465373</th>\n",
       "      <td>-12.446698</td>\n",
       "      <td>-16.072</td>\n",
       "    </tr>\n",
       "    <tr>\n",
       "      <th>2.485373</th>\n",
       "      <td>-12.770098</td>\n",
       "      <td>-16.268</td>\n",
       "    </tr>\n",
       "    <tr>\n",
       "      <th>2.505373</th>\n",
       "      <td>-13.097418</td>\n",
       "      <td>-16.464</td>\n",
       "    </tr>\n",
       "    <tr>\n",
       "      <th>2.525373</th>\n",
       "      <td>-13.428658</td>\n",
       "      <td>-16.660</td>\n",
       "    </tr>\n",
       "    <tr>\n",
       "      <th>2.545373</th>\n",
       "      <td>-13.763818</td>\n",
       "      <td>-16.856</td>\n",
       "    </tr>\n",
       "    <tr>\n",
       "      <th>2.565373</th>\n",
       "      <td>-14.102898</td>\n",
       "      <td>-17.052</td>\n",
       "    </tr>\n",
       "    <tr>\n",
       "      <th>2.585373</th>\n",
       "      <td>-14.445898</td>\n",
       "      <td>-17.248</td>\n",
       "    </tr>\n",
       "    <tr>\n",
       "      <th>2.605373</th>\n",
       "      <td>-14.792818</td>\n",
       "      <td>-17.444</td>\n",
       "    </tr>\n",
       "    <tr>\n",
       "      <th>2.625373</th>\n",
       "      <td>-15.143658</td>\n",
       "      <td>-17.640</td>\n",
       "    </tr>\n",
       "    <tr>\n",
       "      <th>2.645373</th>\n",
       "      <td>-15.498418</td>\n",
       "      <td>-17.836</td>\n",
       "    </tr>\n",
       "    <tr>\n",
       "      <th>2.665373</th>\n",
       "      <td>-15.857098</td>\n",
       "      <td>-18.032</td>\n",
       "    </tr>\n",
       "    <tr>\n",
       "      <th>2.685373</th>\n",
       "      <td>-16.219698</td>\n",
       "      <td>-18.228</td>\n",
       "    </tr>\n",
       "    <tr>\n",
       "      <th>2.705373</th>\n",
       "      <td>-16.586218</td>\n",
       "      <td>-18.424</td>\n",
       "    </tr>\n",
       "    <tr>\n",
       "      <th>2.725373</th>\n",
       "      <td>-16.956658</td>\n",
       "      <td>-18.620</td>\n",
       "    </tr>\n",
       "    <tr>\n",
       "      <th>2.745373</th>\n",
       "      <td>-17.331018</td>\n",
       "      <td>-18.816</td>\n",
       "    </tr>\n",
       "    <tr>\n",
       "      <th>2.765373</th>\n",
       "      <td>-17.709298</td>\n",
       "      <td>-19.012</td>\n",
       "    </tr>\n",
       "    <tr>\n",
       "      <th>2.785373</th>\n",
       "      <td>-18.091498</td>\n",
       "      <td>-19.208</td>\n",
       "    </tr>\n",
       "    <tr>\n",
       "      <th>2.805373</th>\n",
       "      <td>-18.477618</td>\n",
       "      <td>-19.404</td>\n",
       "    </tr>\n",
       "    <tr>\n",
       "      <th>2.825373</th>\n",
       "      <td>-18.867658</td>\n",
       "      <td>-19.600</td>\n",
       "    </tr>\n",
       "  </tbody>\n",
       "</table>\n",
       "<p>101 rows × 2 columns</p>\n",
       "</div>"
      ],
      "text/plain": [
       "                  y       v\n",
       "0.825373   0.732342   0.000\n",
       "0.845373   0.730382  -0.196\n",
       "0.865373   0.724502  -0.392\n",
       "0.885373   0.714702  -0.588\n",
       "0.905373   0.700982  -0.784\n",
       "0.925373   0.683342  -0.980\n",
       "0.945373   0.661782  -1.176\n",
       "0.965373   0.636302  -1.372\n",
       "0.985373   0.606902  -1.568\n",
       "1.005373   0.573582  -1.764\n",
       "1.025373   0.536342  -1.960\n",
       "1.045373   0.495182  -2.156\n",
       "1.065373   0.450102  -2.352\n",
       "1.085373   0.401102  -2.548\n",
       "1.105373   0.348182  -2.744\n",
       "1.125373   0.291342  -2.940\n",
       "1.145373   0.230582  -3.136\n",
       "1.165373   0.165902  -3.332\n",
       "1.185373   0.097302  -3.528\n",
       "1.205373   0.024782  -3.724\n",
       "1.225373  -0.051658  -3.920\n",
       "1.245373  -0.132018  -4.116\n",
       "1.265373  -0.216298  -4.312\n",
       "1.285373  -0.304498  -4.508\n",
       "1.305373  -0.396618  -4.704\n",
       "1.325373  -0.492658  -4.900\n",
       "1.345373  -0.592618  -5.096\n",
       "1.365373  -0.696498  -5.292\n",
       "1.385373  -0.804298  -5.488\n",
       "1.405373  -0.916018  -5.684\n",
       "...             ...     ...\n",
       "2.245373  -9.148018 -13.916\n",
       "2.265373  -9.428298 -14.112\n",
       "2.285373  -9.712498 -14.308\n",
       "2.305373 -10.000618 -14.504\n",
       "2.325373 -10.292658 -14.700\n",
       "2.345373 -10.588618 -14.896\n",
       "2.365373 -10.888498 -15.092\n",
       "2.385373 -11.192298 -15.288\n",
       "2.405373 -11.500018 -15.484\n",
       "2.425373 -11.811658 -15.680\n",
       "2.445373 -12.127218 -15.876\n",
       "2.465373 -12.446698 -16.072\n",
       "2.485373 -12.770098 -16.268\n",
       "2.505373 -13.097418 -16.464\n",
       "2.525373 -13.428658 -16.660\n",
       "2.545373 -13.763818 -16.856\n",
       "2.565373 -14.102898 -17.052\n",
       "2.585373 -14.445898 -17.248\n",
       "2.605373 -14.792818 -17.444\n",
       "2.625373 -15.143658 -17.640\n",
       "2.645373 -15.498418 -17.836\n",
       "2.665373 -15.857098 -18.032\n",
       "2.685373 -16.219698 -18.228\n",
       "2.705373 -16.586218 -18.424\n",
       "2.725373 -16.956658 -18.620\n",
       "2.745373 -17.331018 -18.816\n",
       "2.765373 -17.709298 -19.012\n",
       "2.785373 -18.091498 -19.208\n",
       "2.805373 -18.477618 -19.404\n",
       "2.825373 -18.867658 -19.600\n",
       "\n",
       "[101 rows x 2 columns]"
      ]
     },
     "execution_count": 345,
     "metadata": {},
     "output_type": "execute_result"
    }
   ],
   "source": [
    "system3.results"
   ]
  },
  {
   "cell_type": "code",
   "execution_count": 346,
   "metadata": {},
   "outputs": [],
   "source": [
    "y3= system3.results.y\n",
    "T3=interp_inverse(y3)"
   ]
  },
  {
   "cell_type": "code",
   "execution_count": 347,
   "metadata": {},
   "outputs": [
    {
     "data": {
      "text/plain": [
       "array(1.2118568086338757)"
      ]
     },
     "execution_count": 347,
     "metadata": {},
     "output_type": "execute_result"
    }
   ],
   "source": [
    "T_phase3=T3(0)\n",
    "T_phase3"
   ]
  },
  {
   "cell_type": "code",
   "execution_count": 348,
   "metadata": {
    "collapsed": true
   },
   "outputs": [],
   "source": [
    "def make_system3b(condition):\n",
    "    unpack(condition)\n",
    "    \n",
    "    init = State(y=y_init, v = v_init)\n",
    "    ts = linspace(T_phase2, duration, dt)\n",
    "    \n",
    "    return System(init=init, g=g, mass=mass, y_attach=y_attach, k=k, ts=ts)"
   ]
  },
  {
   "cell_type": "code",
   "execution_count": 349,
   "metadata": {
    "collapsed": true
   },
   "outputs": [],
   "source": [
    "condition3.set(duration=T_phase3)\n",
    "system3 = make_system3b(condition = condition3)\n",
    "run_odeint(system3, slope_func1)"
   ]
  },
  {
   "cell_type": "code",
   "execution_count": 350,
   "metadata": {
    "scrolled": true
   },
   "outputs": [
    {
     "data": {
      "image/png": "[encoded data removed]",
      "text/plain": [
       "<matplotlib.figure.Figure at 0x2b849012e48>"
      ]
     },
     "metadata": {},
     "output_type": "display_data"
    }
   ],
   "source": [
    "plot_position(system3.results)"
   ]
  },
  {
   "cell_type": "code",
   "execution_count": 358,
   "metadata": {},
   "outputs": [
    {
     "name": "stdout",
     "output_type": "stream",
     "text": [
      "Saving figure to file Pogo1.pdf\n"
     ]
    },
    {
     "data": {
      "image/png": "[encoded data removed]",
      "text/plain": [
       "<matplotlib.figure.Figure at 0x2b84a531668>"
      ]
     },
     "metadata": {},
     "output_type": "display_data"
    }
   ],
   "source": [
    "newfig()\n",
    "plot(system.results.y, label='phase1')\n",
    "plot(system2.results.y, label='phase 2')\n",
    "plot(system3.results.y, label='phase 3')\n",
    "        \n",
    "decorate(xlabel='Time (s)',\n",
    "         ylabel='Position (m)',\n",
    "         title = 'k = 6567N//m and length = 0.15 m')\n",
    "\n",
    "savefig('Pogo1.pdf')"
   ]
  },
  {
   "cell_type": "code",
   "execution_count": null,
   "metadata": {
    "collapsed": true
   },
   "outputs": [],
   "source": []
  },
  {
   "cell_type": "code",
   "execution_count": null,
   "metadata": {
    "collapsed": true
   },
   "outputs": [],
   "source": []
  }
 ],
 "metadata": {
  "kernelspec": {
   "display_name": "Python 3",
   "language": "python",
   "name": "python3"
  }
 },
 "nbformat": 4,
 "nbformat_minor": 2
}
